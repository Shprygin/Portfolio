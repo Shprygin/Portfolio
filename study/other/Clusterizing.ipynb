{
  "cells": [
    {
      "cell_type": "markdown",
      "source": [
        "# **Clustering algorithms**"
      ],
      "metadata": {
        "id": "0tQnYRUxZ483"
      }
    },
    {
      "cell_type": "markdown",
      "source": [
        "This notebook is dedicated to checking fundamental algorithm of clustering with one of [Kaggle competitions](https://www.kaggle.com/competitions/tabular-playground-series-jul-2022). Here we have 30 features whose nature we do not know and the task was to somehow clusterize them. "
      ],
      "metadata": {
        "id": "ziUsAIzQaA3O"
      }
    },
    {
      "cell_type": "code",
      "execution_count": 1,
      "metadata": {
        "id": "xPmigsgl7-DI"
      },
      "outputs": [],
      "source": [
        "import numpy as np # linear algebra\n",
        "import pandas as pd # data processing, CSV file I/O (e.g. pd.read_csv)\n",
        "import matplotlib.pyplot as plt\n",
        "import seaborn as sns\n",
        "import itertools"
      ]
    },
    {
      "cell_type": "code",
      "execution_count": 2,
      "metadata": {
        "id": "uDSeZOQb8AzL",
        "colab": {
          "base_uri": "https://localhost:8080/"
        },
        "outputId": "a74d918f-4f8a-425e-989f-77013ac35ce9"
      },
      "outputs": [
        {
          "output_type": "stream",
          "name": "stdout",
          "text": [
            "Mounted at /content/drive\n"
          ]
        }
      ],
      "source": [
        "from google.colab import drive\n",
        "drive.mount('/content/drive')"
      ]
    },
    {
      "cell_type": "markdown",
      "metadata": {
        "id": "3cOmT1P_7-DK"
      },
      "source": [
        "**EDA**"
      ]
    },
    {
      "cell_type": "markdown",
      "source": [
        "Firstly, I view the dataset"
      ],
      "metadata": {
        "id": "tYBz93blaYoo"
      }
    },
    {
      "cell_type": "code",
      "execution_count": 53,
      "metadata": {
        "id": "0CiuJbx67-DM",
        "colab": {
          "base_uri": "https://localhost:8080/",
          "height": 384
        },
        "outputId": "4465f5a0-26a7-4358-cfe5-c813197cb4a9"
      },
      "outputs": [
        {
          "output_type": "execute_result",
          "data": {
            "text/plain": [
              "                 id          f_00          f_01          f_02          f_03  \\\n",
              "count  98000.000000  98000.000000  98000.000000  98000.000000  98000.000000   \n",
              "mean   48999.500000      0.001220      0.005580     -0.001042     -0.000700   \n",
              "std    28290.307527      1.002801      1.000742      1.001373      1.000422   \n",
              "min        0.000000     -4.732235     -4.202795     -4.377021     -4.010826   \n",
              "25%    24499.750000     -0.675226     -0.670985     -0.672779     -0.672540   \n",
              "50%    48999.500000      0.002022      0.006650     -0.000324     -0.003185   \n",
              "75%    73499.250000      0.677271      0.677746      0.677086      0.672097   \n",
              "max    97999.000000      4.490521      4.324974      4.560247      4.399373   \n",
              "\n",
              "               f_04          f_05          f_06          f_07          f_08  \\\n",
              "count  98000.000000  98000.000000  98000.000000  98000.000000  98000.000000   \n",
              "mean      -0.003522     -0.001612     -0.003042      5.545918      6.763061   \n",
              "std        1.003061      1.000532      0.997434      3.691840      4.152348   \n",
              "min       -4.535903     -4.300767     -4.894525      0.000000      0.000000   \n",
              "25%       -0.682510     -0.675066     -0.680421      3.000000      4.000000   \n",
              "50%       -0.003307      0.001024     -0.002053      5.000000      6.000000   \n",
              "75%        0.677589      0.673344      0.668112      8.000000      9.000000   \n",
              "max        4.050549      4.710316      3.998595     32.000000     30.000000   \n",
              "\n",
              "       ...          f_19          f_20          f_21          f_22  \\\n",
              "count  ...  98000.000000  98000.000000  98000.000000  98000.000000   \n",
              "mean   ...     -0.004513     -0.000515     -0.001670     -0.038752   \n",
              "std    ...      1.004372      1.002962      0.999703      1.477858   \n",
              "min    ...     -4.894525     -4.732235     -4.438130     -6.873999   \n",
              "25%    ...     -0.678773     -0.679777     -0.675147     -1.022964   \n",
              "50%    ...     -0.000587     -0.000806      0.000819     -0.056687   \n",
              "75%    ...      0.672149      0.675437      0.676881      0.930158   \n",
              "max    ...      4.560247      4.399373      4.135419      6.517721   \n",
              "\n",
              "               f_23          f_24          f_25          f_26          f_27  \\\n",
              "count  98000.000000  98000.000000  98000.000000  98000.000000  98000.000000   \n",
              "mean      -0.220002      0.166434     -0.064309     -0.062540      0.098472   \n",
              "std        1.494836      1.543014      1.576086      1.428055      1.305407   \n",
              "min       -8.234305     -7.792363     -6.593842     -7.375719     -7.335556   \n",
              "25%       -1.203204     -0.903385     -1.128966     -0.975680     -0.746489   \n",
              "50%       -0.219046      0.167074     -0.099221     -0.070852      0.082230   \n",
              "75%        0.764690      1.217432      0.987684      0.843212      0.925306   \n",
              "max        6.054831      7.527271      7.544731      7.005608      7.205971   \n",
              "\n",
              "               f_28  \n",
              "count  98000.000000  \n",
              "mean      -0.230910  \n",
              "std        1.528476  \n",
              "min       -6.954151  \n",
              "25%       -1.262606  \n",
              "50%       -0.271319  \n",
              "75%        0.770516  \n",
              "max        6.977150  \n",
              "\n",
              "[8 rows x 30 columns]"
            ],
            "text/html": [
              "\n",
              "  <div id=\"df-4169f9dd-484b-4574-8c8e-078d2ce69f04\">\n",
              "    <div class=\"colab-df-container\">\n",
              "      <div>\n",
              "<style scoped>\n",
              "    .dataframe tbody tr th:only-of-type {\n",
              "        vertical-align: middle;\n",
              "    }\n",
              "\n",
              "    .dataframe tbody tr th {\n",
              "        vertical-align: top;\n",
              "    }\n",
              "\n",
              "    .dataframe thead th {\n",
              "        text-align: right;\n",
              "    }\n",
              "</style>\n",
              "<table border=\"1\" class=\"dataframe\">\n",
              "  <thead>\n",
              "    <tr style=\"text-align: right;\">\n",
              "      <th></th>\n",
              "      <th>id</th>\n",
              "      <th>f_00</th>\n",
              "      <th>f_01</th>\n",
              "      <th>f_02</th>\n",
              "      <th>f_03</th>\n",
              "      <th>f_04</th>\n",
              "      <th>f_05</th>\n",
              "      <th>f_06</th>\n",
              "      <th>f_07</th>\n",
              "      <th>f_08</th>\n",
              "      <th>...</th>\n",
              "      <th>f_19</th>\n",
              "      <th>f_20</th>\n",
              "      <th>f_21</th>\n",
              "      <th>f_22</th>\n",
              "      <th>f_23</th>\n",
              "      <th>f_24</th>\n",
              "      <th>f_25</th>\n",
              "      <th>f_26</th>\n",
              "      <th>f_27</th>\n",
              "      <th>f_28</th>\n",
              "    </tr>\n",
              "  </thead>\n",
              "  <tbody>\n",
              "    <tr>\n",
              "      <th>count</th>\n",
              "      <td>98000.000000</td>\n",
              "      <td>98000.000000</td>\n",
              "      <td>98000.000000</td>\n",
              "      <td>98000.000000</td>\n",
              "      <td>98000.000000</td>\n",
              "      <td>98000.000000</td>\n",
              "      <td>98000.000000</td>\n",
              "      <td>98000.000000</td>\n",
              "      <td>98000.000000</td>\n",
              "      <td>98000.000000</td>\n",
              "      <td>...</td>\n",
              "      <td>98000.000000</td>\n",
              "      <td>98000.000000</td>\n",
              "      <td>98000.000000</td>\n",
              "      <td>98000.000000</td>\n",
              "      <td>98000.000000</td>\n",
              "      <td>98000.000000</td>\n",
              "      <td>98000.000000</td>\n",
              "      <td>98000.000000</td>\n",
              "      <td>98000.000000</td>\n",
              "      <td>98000.000000</td>\n",
              "    </tr>\n",
              "    <tr>\n",
              "      <th>mean</th>\n",
              "      <td>48999.500000</td>\n",
              "      <td>0.001220</td>\n",
              "      <td>0.005580</td>\n",
              "      <td>-0.001042</td>\n",
              "      <td>-0.000700</td>\n",
              "      <td>-0.003522</td>\n",
              "      <td>-0.001612</td>\n",
              "      <td>-0.003042</td>\n",
              "      <td>5.545918</td>\n",
              "      <td>6.763061</td>\n",
              "      <td>...</td>\n",
              "      <td>-0.004513</td>\n",
              "      <td>-0.000515</td>\n",
              "      <td>-0.001670</td>\n",
              "      <td>-0.038752</td>\n",
              "      <td>-0.220002</td>\n",
              "      <td>0.166434</td>\n",
              "      <td>-0.064309</td>\n",
              "      <td>-0.062540</td>\n",
              "      <td>0.098472</td>\n",
              "      <td>-0.230910</td>\n",
              "    </tr>\n",
              "    <tr>\n",
              "      <th>std</th>\n",
              "      <td>28290.307527</td>\n",
              "      <td>1.002801</td>\n",
              "      <td>1.000742</td>\n",
              "      <td>1.001373</td>\n",
              "      <td>1.000422</td>\n",
              "      <td>1.003061</td>\n",
              "      <td>1.000532</td>\n",
              "      <td>0.997434</td>\n",
              "      <td>3.691840</td>\n",
              "      <td>4.152348</td>\n",
              "      <td>...</td>\n",
              "      <td>1.004372</td>\n",
              "      <td>1.002962</td>\n",
              "      <td>0.999703</td>\n",
              "      <td>1.477858</td>\n",
              "      <td>1.494836</td>\n",
              "      <td>1.543014</td>\n",
              "      <td>1.576086</td>\n",
              "      <td>1.428055</td>\n",
              "      <td>1.305407</td>\n",
              "      <td>1.528476</td>\n",
              "    </tr>\n",
              "    <tr>\n",
              "      <th>min</th>\n",
              "      <td>0.000000</td>\n",
              "      <td>-4.732235</td>\n",
              "      <td>-4.202795</td>\n",
              "      <td>-4.377021</td>\n",
              "      <td>-4.010826</td>\n",
              "      <td>-4.535903</td>\n",
              "      <td>-4.300767</td>\n",
              "      <td>-4.894525</td>\n",
              "      <td>0.000000</td>\n",
              "      <td>0.000000</td>\n",
              "      <td>...</td>\n",
              "      <td>-4.894525</td>\n",
              "      <td>-4.732235</td>\n",
              "      <td>-4.438130</td>\n",
              "      <td>-6.873999</td>\n",
              "      <td>-8.234305</td>\n",
              "      <td>-7.792363</td>\n",
              "      <td>-6.593842</td>\n",
              "      <td>-7.375719</td>\n",
              "      <td>-7.335556</td>\n",
              "      <td>-6.954151</td>\n",
              "    </tr>\n",
              "    <tr>\n",
              "      <th>25%</th>\n",
              "      <td>24499.750000</td>\n",
              "      <td>-0.675226</td>\n",
              "      <td>-0.670985</td>\n",
              "      <td>-0.672779</td>\n",
              "      <td>-0.672540</td>\n",
              "      <td>-0.682510</td>\n",
              "      <td>-0.675066</td>\n",
              "      <td>-0.680421</td>\n",
              "      <td>3.000000</td>\n",
              "      <td>4.000000</td>\n",
              "      <td>...</td>\n",
              "      <td>-0.678773</td>\n",
              "      <td>-0.679777</td>\n",
              "      <td>-0.675147</td>\n",
              "      <td>-1.022964</td>\n",
              "      <td>-1.203204</td>\n",
              "      <td>-0.903385</td>\n",
              "      <td>-1.128966</td>\n",
              "      <td>-0.975680</td>\n",
              "      <td>-0.746489</td>\n",
              "      <td>-1.262606</td>\n",
              "    </tr>\n",
              "    <tr>\n",
              "      <th>50%</th>\n",
              "      <td>48999.500000</td>\n",
              "      <td>0.002022</td>\n",
              "      <td>0.006650</td>\n",
              "      <td>-0.000324</td>\n",
              "      <td>-0.003185</td>\n",
              "      <td>-0.003307</td>\n",
              "      <td>0.001024</td>\n",
              "      <td>-0.002053</td>\n",
              "      <td>5.000000</td>\n",
              "      <td>6.000000</td>\n",
              "      <td>...</td>\n",
              "      <td>-0.000587</td>\n",
              "      <td>-0.000806</td>\n",
              "      <td>0.000819</td>\n",
              "      <td>-0.056687</td>\n",
              "      <td>-0.219046</td>\n",
              "      <td>0.167074</td>\n",
              "      <td>-0.099221</td>\n",
              "      <td>-0.070852</td>\n",
              "      <td>0.082230</td>\n",
              "      <td>-0.271319</td>\n",
              "    </tr>\n",
              "    <tr>\n",
              "      <th>75%</th>\n",
              "      <td>73499.250000</td>\n",
              "      <td>0.677271</td>\n",
              "      <td>0.677746</td>\n",
              "      <td>0.677086</td>\n",
              "      <td>0.672097</td>\n",
              "      <td>0.677589</td>\n",
              "      <td>0.673344</td>\n",
              "      <td>0.668112</td>\n",
              "      <td>8.000000</td>\n",
              "      <td>9.000000</td>\n",
              "      <td>...</td>\n",
              "      <td>0.672149</td>\n",
              "      <td>0.675437</td>\n",
              "      <td>0.676881</td>\n",
              "      <td>0.930158</td>\n",
              "      <td>0.764690</td>\n",
              "      <td>1.217432</td>\n",
              "      <td>0.987684</td>\n",
              "      <td>0.843212</td>\n",
              "      <td>0.925306</td>\n",
              "      <td>0.770516</td>\n",
              "    </tr>\n",
              "    <tr>\n",
              "      <th>max</th>\n",
              "      <td>97999.000000</td>\n",
              "      <td>4.490521</td>\n",
              "      <td>4.324974</td>\n",
              "      <td>4.560247</td>\n",
              "      <td>4.399373</td>\n",
              "      <td>4.050549</td>\n",
              "      <td>4.710316</td>\n",
              "      <td>3.998595</td>\n",
              "      <td>32.000000</td>\n",
              "      <td>30.000000</td>\n",
              "      <td>...</td>\n",
              "      <td>4.560247</td>\n",
              "      <td>4.399373</td>\n",
              "      <td>4.135419</td>\n",
              "      <td>6.517721</td>\n",
              "      <td>6.054831</td>\n",
              "      <td>7.527271</td>\n",
              "      <td>7.544731</td>\n",
              "      <td>7.005608</td>\n",
              "      <td>7.205971</td>\n",
              "      <td>6.977150</td>\n",
              "    </tr>\n",
              "  </tbody>\n",
              "</table>\n",
              "<p>8 rows × 30 columns</p>\n",
              "</div>\n",
              "      <button class=\"colab-df-convert\" onclick=\"convertToInteractive('df-4169f9dd-484b-4574-8c8e-078d2ce69f04')\"\n",
              "              title=\"Convert this dataframe to an interactive table.\"\n",
              "              style=\"display:none;\">\n",
              "        \n",
              "  <svg xmlns=\"http://www.w3.org/2000/svg\" height=\"24px\"viewBox=\"0 0 24 24\"\n",
              "       width=\"24px\">\n",
              "    <path d=\"M0 0h24v24H0V0z\" fill=\"none\"/>\n",
              "    <path d=\"M18.56 5.44l.94 2.06.94-2.06 2.06-.94-2.06-.94-.94-2.06-.94 2.06-2.06.94zm-11 1L8.5 8.5l.94-2.06 2.06-.94-2.06-.94L8.5 2.5l-.94 2.06-2.06.94zm10 10l.94 2.06.94-2.06 2.06-.94-2.06-.94-.94-2.06-.94 2.06-2.06.94z\"/><path d=\"M17.41 7.96l-1.37-1.37c-.4-.4-.92-.59-1.43-.59-.52 0-1.04.2-1.43.59L10.3 9.45l-7.72 7.72c-.78.78-.78 2.05 0 2.83L4 21.41c.39.39.9.59 1.41.59.51 0 1.02-.2 1.41-.59l7.78-7.78 2.81-2.81c.8-.78.8-2.07 0-2.86zM5.41 20L4 18.59l7.72-7.72 1.47 1.35L5.41 20z\"/>\n",
              "  </svg>\n",
              "      </button>\n",
              "      \n",
              "  <style>\n",
              "    .colab-df-container {\n",
              "      display:flex;\n",
              "      flex-wrap:wrap;\n",
              "      gap: 12px;\n",
              "    }\n",
              "\n",
              "    .colab-df-convert {\n",
              "      background-color: #E8F0FE;\n",
              "      border: none;\n",
              "      border-radius: 50%;\n",
              "      cursor: pointer;\n",
              "      display: none;\n",
              "      fill: #1967D2;\n",
              "      height: 32px;\n",
              "      padding: 0 0 0 0;\n",
              "      width: 32px;\n",
              "    }\n",
              "\n",
              "    .colab-df-convert:hover {\n",
              "      background-color: #E2EBFA;\n",
              "      box-shadow: 0px 1px 2px rgba(60, 64, 67, 0.3), 0px 1px 3px 1px rgba(60, 64, 67, 0.15);\n",
              "      fill: #174EA6;\n",
              "    }\n",
              "\n",
              "    [theme=dark] .colab-df-convert {\n",
              "      background-color: #3B4455;\n",
              "      fill: #D2E3FC;\n",
              "    }\n",
              "\n",
              "    [theme=dark] .colab-df-convert:hover {\n",
              "      background-color: #434B5C;\n",
              "      box-shadow: 0px 1px 3px 1px rgba(0, 0, 0, 0.15);\n",
              "      filter: drop-shadow(0px 1px 2px rgba(0, 0, 0, 0.3));\n",
              "      fill: #FFFFFF;\n",
              "    }\n",
              "  </style>\n",
              "\n",
              "      <script>\n",
              "        const buttonEl =\n",
              "          document.querySelector('#df-4169f9dd-484b-4574-8c8e-078d2ce69f04 button.colab-df-convert');\n",
              "        buttonEl.style.display =\n",
              "          google.colab.kernel.accessAllowed ? 'block' : 'none';\n",
              "\n",
              "        async function convertToInteractive(key) {\n",
              "          const element = document.querySelector('#df-4169f9dd-484b-4574-8c8e-078d2ce69f04');\n",
              "          const dataTable =\n",
              "            await google.colab.kernel.invokeFunction('convertToInteractive',\n",
              "                                                     [key], {});\n",
              "          if (!dataTable) return;\n",
              "\n",
              "          const docLinkHtml = 'Like what you see? Visit the ' +\n",
              "            '<a target=\"_blank\" href=https://colab.research.google.com/notebooks/data_table.ipynb>data table notebook</a>'\n",
              "            + ' to learn more about interactive tables.';\n",
              "          element.innerHTML = '';\n",
              "          dataTable['output_type'] = 'display_data';\n",
              "          await google.colab.output.renderOutput(dataTable, element);\n",
              "          const docLink = document.createElement('div');\n",
              "          docLink.innerHTML = docLinkHtml;\n",
              "          element.appendChild(docLink);\n",
              "        }\n",
              "      </script>\n",
              "    </div>\n",
              "  </div>\n",
              "  "
            ]
          },
          "metadata": {},
          "execution_count": 53
        }
      ],
      "source": [
        "data = pd.read_csv('/content/drive/MyDrive/data (1).csv')\n",
        "data.describe()"
      ]
    },
    {
      "cell_type": "code",
      "execution_count": null,
      "metadata": {
        "colab": {
          "base_uri": "https://localhost:8080/",
          "height": 296
        },
        "id": "o8FoNttP7-DN",
        "outputId": "1bdea8db-9377-45ad-8296-8bdf38776618"
      },
      "outputs": [
        {
          "output_type": "execute_result",
          "data": {
            "text/plain": [
              "<matplotlib.axes._subplots.AxesSubplot at 0x7f04a4c6fa90>"
            ]
          },
          "metadata": {},
          "execution_count": 5
        },
        {
          "output_type": "display_data",
          "data": {
            "text/plain": [
              "<Figure size 432x288 with 2 Axes>"
            ],
            "image/png": "[encoded data removed]"
          },
          "metadata": {
            "needs_background": "light"
          }
        }
      ],
      "source": [
        "sns.heatmap(data.corr())"
      ]
    },
    {
      "cell_type": "code",
      "execution_count": null,
      "metadata": {
        "colab": {
          "base_uri": "https://localhost:8080/",
          "height": 286
        },
        "id": "Op4cqYQC7-DO",
        "outputId": "d07b4f5f-a8e3-4d5f-dba0-1655fd863fa4"
      },
      "outputs": [
        {
          "data": {
            "text/plain": [
              "<matplotlib.axes._subplots.AxesSubplot at 0x7f387bfb5050>"
            ]
          },
          "execution_count": 5,
          "metadata": {},
          "output_type": "execute_result"
        },
        {
          "data": {
            "image/png": "[encoded data removed]",
            "text/plain": [
              "<Figure size 432x288 with 2 Axes>"
            ]
          },
          "metadata": {},
          "output_type": "display_data"
        }
      ],
      "source": [
        "data_sub = data[['f_08','f_09','f_10','f_11','f_12','f_13']]\n",
        "sns.heatmap(data_sub.corr(), annot = True)"
      ]
    },
    {
      "cell_type": "code",
      "execution_count": null,
      "metadata": {
        "colab": {
          "base_uri": "https://localhost:8080/",
          "height": 1000
        },
        "id": "ojWAZUSr7-DP",
        "outputId": "8db08579-d152-49a5-bab0-5b3e6539ae81"
      },
      "outputs": [
        {
          "data": {
            "image/png": "[encoded data removed]",
            "text/plain": [
              "<Figure size 432x288 with 1 Axes>"
            ]
          },
          "metadata": {},
          "output_type": "display_data"
        },
        {
          "data": {
            "image/png": "[encoded data removed]",
            "text/plain": [
              "<Figure size 432x288 with 1 Axes>"
            ]
          },
          "metadata": {},
          "output_type": "display_data"
        },
        {
          "data": {
            "image/png": "[encoded data removed]",
            "text/plain": [
              "<Figure size 432x288 with 1 Axes>"
            ]
          },
          "metadata": {},
          "output_type": "display_data"
        },
        {
          "data": {
            "image/png": "[encoded data removed]",
            "text/plain": [
              "<Figure size 432x288 with 1 Axes>"
            ]
          },
          "metadata": {},
          "output_type": "display_data"
        },
        {
          "data": {
            "image/png": "[encoded data removed]",
            "text/plain": [
              "<Figure size 432x288 with 1 Axes>"
            ]
          },
          "metadata": {},
          "output_type": "display_data"
        },
        {
          "data": {
            "image/png": "[encoded data removed]",
            "text/plain": [
              "<Figure size 432x288 with 1 Axes>"
            ]
          },
          "metadata": {},
          "output_type": "display_data"
        }
      ],
      "source": [
        "for var in data_sub.columns:\n",
        "    plt.hist(data_sub[var])\n",
        "    plt.show()"
      ]
    },
    {
      "cell_type": "markdown",
      "metadata": {
        "id": "QAmJ4yqy7-DP"
      },
      "source": [
        "We see that correlated features are lognormally distributed and are integers."
      ]
    },
    {
      "cell_type": "code",
      "execution_count": 4,
      "metadata": {
        "id": "D1z7ADXj7-DQ",
        "colab": {
          "base_uri": "https://localhost:8080/",
          "height": 456
        },
        "outputId": "11daba2e-61fd-4ea7-b379-b66e9ceea7e8"
      },
      "outputs": [
        {
          "output_type": "execute_result",
          "data": {
            "text/plain": [
              "           f_00      f_01      f_02      f_03      f_04      f_05      f_06  \\\n",
              "0     -0.389420 -0.912791  0.648951  0.589045 -0.830817  0.733624  2.258560   \n",
              "1     -0.689249 -0.453954  0.654175  0.995248 -1.653020  0.863810 -0.090651   \n",
              "2      0.809079  0.324568 -1.170602 -0.624491  0.105448  0.783948  1.988301   \n",
              "3     -0.500923  0.229049  0.264109  0.231520  0.415012 -1.221269  0.138850   \n",
              "4     -0.671268 -1.039533 -0.270155 -1.830264 -0.290108 -1.852809  0.781898   \n",
              "...         ...       ...       ...       ...       ...       ...       ...   \n",
              "97995  0.237591  1.657034 -0.689282  0.313710 -0.299039  0.329139  1.607378   \n",
              "97996  0.322696  0.710411  0.562625 -1.321713 -0.357708  0.182024  0.178558   \n",
              "97997 -0.249364 -0.459545  1.886122 -1.340310  0.195029 -0.559520 -0.379767   \n",
              "97998  0.311408  2.185237  0.761367  0.436723  0.464967  0.062321 -0.334025   \n",
              "97999  0.755170  0.567483  1.456767 -0.579071 -0.048474 -1.206240  0.784305   \n",
              "\n",
              "       f_07  f_08  f_09  ...      f_19      f_20      f_21      f_22  \\\n",
              "0         2    13    14  ... -0.478412 -0.757002 -0.763635 -1.090369   \n",
              "1         2     3     6  ... -0.428791 -0.089908 -1.784204 -0.839474   \n",
              "2         5    11     5  ... -0.413534 -1.602377  1.190984  3.267116   \n",
              "3         6     2    13  ...  0.619283  1.287801  0.532837  1.036631   \n",
              "4         8     7     5  ... -1.628830 -0.434948  0.322505  0.284326   \n",
              "...     ...   ...   ...  ...       ...       ...       ...       ...   \n",
              "97995     5     7     8  ... -0.290116 -0.258141 -0.973640  1.369508   \n",
              "97996     3     9     2  ...  0.117687  1.388242  0.342400  1.680537   \n",
              "97997     8     9    10  ... -0.850223 -1.787648 -1.268115 -1.508330   \n",
              "97998     1     8    11  ... -0.010839  1.118906  1.565765  0.358480   \n",
              "97999     0    11     3  ...  1.180805 -0.925705 -1.368680 -2.465425   \n",
              "\n",
              "           f_23      f_24      f_25      f_26      f_27      f_28  \n",
              "0      1.142641 -0.884274  1.137896  1.309073  1.463002  0.813527  \n",
              "1      0.459685  1.759412 -0.275422 -0.852168  0.562457 -2.680541  \n",
              "2     -0.088322 -2.168635 -0.974989  1.335763 -1.110655 -3.630723  \n",
              "3     -2.041828  1.440490 -1.900191 -0.630771 -0.050641  0.238333  \n",
              "4     -2.438365  1.473930 -1.044684  1.602686 -0.405263 -1.987263  \n",
              "...         ...       ...       ...       ...       ...       ...  \n",
              "97995  0.391055  2.152426 -0.208944 -1.475403  0.298448  0.445039  \n",
              "97996 -0.860409  0.579165  1.162692  0.134994  0.994666  0.727642  \n",
              "97997  1.945622  1.503645  0.194968  2.142693  1.646042  0.641466  \n",
              "97998  0.547615  1.224439 -0.537998 -1.610954 -0.616227 -0.066211  \n",
              "97999  1.453582 -1.685122  0.129689 -0.970897  1.404988 -0.711098  \n",
              "\n",
              "[98000 rows x 29 columns]"
            ],
            "text/html": [
              "\n",
              "  <div id=\"df-ac646b92-629d-45b7-a9dc-86dba7ab6b09\">\n",
              "    <div class=\"colab-df-container\">\n",
              "      <div>\n",
              "<style scoped>\n",
              "    .dataframe tbody tr th:only-of-type {\n",
              "        vertical-align: middle;\n",
              "    }\n",
              "\n",
              "    .dataframe tbody tr th {\n",
              "        vertical-align: top;\n",
              "    }\n",
              "\n",
              "    .dataframe thead th {\n",
              "        text-align: right;\n",
              "    }\n",
              "</style>\n",
              "<table border=\"1\" class=\"dataframe\">\n",
              "  <thead>\n",
              "    <tr style=\"text-align: right;\">\n",
              "      <th></th>\n",
              "      <th>f_00</th>\n",
              "      <th>f_01</th>\n",
              "      <th>f_02</th>\n",
              "      <th>f_03</th>\n",
              "      <th>f_04</th>\n",
              "      <th>f_05</th>\n",
              "      <th>f_06</th>\n",
              "      <th>f_07</th>\n",
              "      <th>f_08</th>\n",
              "      <th>f_09</th>\n",
              "      <th>...</th>\n",
              "      <th>f_19</th>\n",
              "      <th>f_20</th>\n",
              "      <th>f_21</th>\n",
              "      <th>f_22</th>\n",
              "      <th>f_23</th>\n",
              "      <th>f_24</th>\n",
              "      <th>f_25</th>\n",
              "      <th>f_26</th>\n",
              "      <th>f_27</th>\n",
              "      <th>f_28</th>\n",
              "    </tr>\n",
              "  </thead>\n",
              "  <tbody>\n",
              "    <tr>\n",
              "      <th>0</th>\n",
              "      <td>-0.389420</td>\n",
              "      <td>-0.912791</td>\n",
              "      <td>0.648951</td>\n",
              "      <td>0.589045</td>\n",
              "      <td>-0.830817</td>\n",
              "      <td>0.733624</td>\n",
              "      <td>2.258560</td>\n",
              "      <td>2</td>\n",
              "      <td>13</td>\n",
              "      <td>14</td>\n",
              "      <td>...</td>\n",
              "      <td>-0.478412</td>\n",
              "      <td>-0.757002</td>\n",
              "      <td>-0.763635</td>\n",
              "      <td>-1.090369</td>\n",
              "      <td>1.142641</td>\n",
              "      <td>-0.884274</td>\n",
              "      <td>1.137896</td>\n",
              "      <td>1.309073</td>\n",
              "      <td>1.463002</td>\n",
              "      <td>0.813527</td>\n",
              "    </tr>\n",
              "    <tr>\n",
              "      <th>1</th>\n",
              "      <td>-0.689249</td>\n",
              "      <td>-0.453954</td>\n",
              "      <td>0.654175</td>\n",
              "      <td>0.995248</td>\n",
              "      <td>-1.653020</td>\n",
              "      <td>0.863810</td>\n",
              "      <td>-0.090651</td>\n",
              "      <td>2</td>\n",
              "      <td>3</td>\n",
              "      <td>6</td>\n",
              "      <td>...</td>\n",
              "      <td>-0.428791</td>\n",
              "      <td>-0.089908</td>\n",
              "      <td>-1.784204</td>\n",
              "      <td>-0.839474</td>\n",
              "      <td>0.459685</td>\n",
              "      <td>1.759412</td>\n",
              "      <td>-0.275422</td>\n",
              "      <td>-0.852168</td>\n",
              "      <td>0.562457</td>\n",
              "      <td>-2.680541</td>\n",
              "    </tr>\n",
              "    <tr>\n",
              "      <th>2</th>\n",
              "      <td>0.809079</td>\n",
              "      <td>0.324568</td>\n",
              "      <td>-1.170602</td>\n",
              "      <td>-0.624491</td>\n",
              "      <td>0.105448</td>\n",
              "      <td>0.783948</td>\n",
              "      <td>1.988301</td>\n",
              "      <td>5</td>\n",
              "      <td>11</td>\n",
              "      <td>5</td>\n",
              "      <td>...</td>\n",
              "      <td>-0.413534</td>\n",
              "      <td>-1.602377</td>\n",
              "      <td>1.190984</td>\n",
              "      <td>3.267116</td>\n",
              "      <td>-0.088322</td>\n",
              "      <td>-2.168635</td>\n",
              "      <td>-0.974989</td>\n",
              "      <td>1.335763</td>\n",
              "      <td>-1.110655</td>\n",
              "      <td>-3.630723</td>\n",
              "    </tr>\n",
              "    <tr>\n",
              "      <th>3</th>\n",
              "      <td>-0.500923</td>\n",
              "      <td>0.229049</td>\n",
              "      <td>0.264109</td>\n",
              "      <td>0.231520</td>\n",
              "      <td>0.415012</td>\n",
              "      <td>-1.221269</td>\n",
              "      <td>0.138850</td>\n",
              "      <td>6</td>\n",
              "      <td>2</td>\n",
              "      <td>13</td>\n",
              "      <td>...</td>\n",
              "      <td>0.619283</td>\n",
              "      <td>1.287801</td>\n",
              "      <td>0.532837</td>\n",
              "      <td>1.036631</td>\n",
              "      <td>-2.041828</td>\n",
              "      <td>1.440490</td>\n",
              "      <td>-1.900191</td>\n",
              "      <td>-0.630771</td>\n",
              "      <td>-0.050641</td>\n",
              "      <td>0.238333</td>\n",
              "    </tr>\n",
              "    <tr>\n",
              "      <th>4</th>\n",
              "      <td>-0.671268</td>\n",
              "      <td>-1.039533</td>\n",
              "      <td>-0.270155</td>\n",
              "      <td>-1.830264</td>\n",
              "      <td>-0.290108</td>\n",
              "      <td>-1.852809</td>\n",
              "      <td>0.781898</td>\n",
              "      <td>8</td>\n",
              "      <td>7</td>\n",
              "      <td>5</td>\n",
              "      <td>...</td>\n",
              "      <td>-1.628830</td>\n",
              "      <td>-0.434948</td>\n",
              "      <td>0.322505</td>\n",
              "      <td>0.284326</td>\n",
              "      <td>-2.438365</td>\n",
              "      <td>1.473930</td>\n",
              "      <td>-1.044684</td>\n",
              "      <td>1.602686</td>\n",
              "      <td>-0.405263</td>\n",
              "      <td>-1.987263</td>\n",
              "    </tr>\n",
              "    <tr>\n",
              "      <th>...</th>\n",
              "      <td>...</td>\n",
              "      <td>...</td>\n",
              "      <td>...</td>\n",
              "      <td>...</td>\n",
              "      <td>...</td>\n",
              "      <td>...</td>\n",
              "      <td>...</td>\n",
              "      <td>...</td>\n",
              "      <td>...</td>\n",
              "      <td>...</td>\n",
              "      <td>...</td>\n",
              "      <td>...</td>\n",
              "      <td>...</td>\n",
              "      <td>...</td>\n",
              "      <td>...</td>\n",
              "      <td>...</td>\n",
              "      <td>...</td>\n",
              "      <td>...</td>\n",
              "      <td>...</td>\n",
              "      <td>...</td>\n",
              "      <td>...</td>\n",
              "    </tr>\n",
              "    <tr>\n",
              "      <th>97995</th>\n",
              "      <td>0.237591</td>\n",
              "      <td>1.657034</td>\n",
              "      <td>-0.689282</td>\n",
              "      <td>0.313710</td>\n",
              "      <td>-0.299039</td>\n",
              "      <td>0.329139</td>\n",
              "      <td>1.607378</td>\n",
              "      <td>5</td>\n",
              "      <td>7</td>\n",
              "      <td>8</td>\n",
              "      <td>...</td>\n",
              "      <td>-0.290116</td>\n",
              "      <td>-0.258141</td>\n",
              "      <td>-0.973640</td>\n",
              "      <td>1.369508</td>\n",
              "      <td>0.391055</td>\n",
              "      <td>2.152426</td>\n",
              "      <td>-0.208944</td>\n",
              "      <td>-1.475403</td>\n",
              "      <td>0.298448</td>\n",
              "      <td>0.445039</td>\n",
              "    </tr>\n",
              "    <tr>\n",
              "      <th>97996</th>\n",
              "      <td>0.322696</td>\n",
              "      <td>0.710411</td>\n",
              "      <td>0.562625</td>\n",
              "      <td>-1.321713</td>\n",
              "      <td>-0.357708</td>\n",
              "      <td>0.182024</td>\n",
              "      <td>0.178558</td>\n",
              "      <td>3</td>\n",
              "      <td>9</td>\n",
              "      <td>2</td>\n",
              "      <td>...</td>\n",
              "      <td>0.117687</td>\n",
              "      <td>1.388242</td>\n",
              "      <td>0.342400</td>\n",
              "      <td>1.680537</td>\n",
              "      <td>-0.860409</td>\n",
              "      <td>0.579165</td>\n",
              "      <td>1.162692</td>\n",
              "      <td>0.134994</td>\n",
              "      <td>0.994666</td>\n",
              "      <td>0.727642</td>\n",
              "    </tr>\n",
              "    <tr>\n",
              "      <th>97997</th>\n",
              "      <td>-0.249364</td>\n",
              "      <td>-0.459545</td>\n",
              "      <td>1.886122</td>\n",
              "      <td>-1.340310</td>\n",
              "      <td>0.195029</td>\n",
              "      <td>-0.559520</td>\n",
              "      <td>-0.379767</td>\n",
              "      <td>8</td>\n",
              "      <td>9</td>\n",
              "      <td>10</td>\n",
              "      <td>...</td>\n",
              "      <td>-0.850223</td>\n",
              "      <td>-1.787648</td>\n",
              "      <td>-1.268115</td>\n",
              "      <td>-1.508330</td>\n",
              "      <td>1.945622</td>\n",
              "      <td>1.503645</td>\n",
              "      <td>0.194968</td>\n",
              "      <td>2.142693</td>\n",
              "      <td>1.646042</td>\n",
              "      <td>0.641466</td>\n",
              "    </tr>\n",
              "    <tr>\n",
              "      <th>97998</th>\n",
              "      <td>0.311408</td>\n",
              "      <td>2.185237</td>\n",
              "      <td>0.761367</td>\n",
              "      <td>0.436723</td>\n",
              "      <td>0.464967</td>\n",
              "      <td>0.062321</td>\n",
              "      <td>-0.334025</td>\n",
              "      <td>1</td>\n",
              "      <td>8</td>\n",
              "      <td>11</td>\n",
              "      <td>...</td>\n",
              "      <td>-0.010839</td>\n",
              "      <td>1.118906</td>\n",
              "      <td>1.565765</td>\n",
              "      <td>0.358480</td>\n",
              "      <td>0.547615</td>\n",
              "      <td>1.224439</td>\n",
              "      <td>-0.537998</td>\n",
              "      <td>-1.610954</td>\n",
              "      <td>-0.616227</td>\n",
              "      <td>-0.066211</td>\n",
              "    </tr>\n",
              "    <tr>\n",
              "      <th>97999</th>\n",
              "      <td>0.755170</td>\n",
              "      <td>0.567483</td>\n",
              "      <td>1.456767</td>\n",
              "      <td>-0.579071</td>\n",
              "      <td>-0.048474</td>\n",
              "      <td>-1.206240</td>\n",
              "      <td>0.784305</td>\n",
              "      <td>0</td>\n",
              "      <td>11</td>\n",
              "      <td>3</td>\n",
              "      <td>...</td>\n",
              "      <td>1.180805</td>\n",
              "      <td>-0.925705</td>\n",
              "      <td>-1.368680</td>\n",
              "      <td>-2.465425</td>\n",
              "      <td>1.453582</td>\n",
              "      <td>-1.685122</td>\n",
              "      <td>0.129689</td>\n",
              "      <td>-0.970897</td>\n",
              "      <td>1.404988</td>\n",
              "      <td>-0.711098</td>\n",
              "    </tr>\n",
              "  </tbody>\n",
              "</table>\n",
              "<p>98000 rows × 29 columns</p>\n",
              "</div>\n",
              "      <button class=\"colab-df-convert\" onclick=\"convertToInteractive('df-ac646b92-629d-45b7-a9dc-86dba7ab6b09')\"\n",
              "              title=\"Convert this dataframe to an interactive table.\"\n",
              "              style=\"display:none;\">\n",
              "        \n",
              "  <svg xmlns=\"http://www.w3.org/2000/svg\" height=\"24px\"viewBox=\"0 0 24 24\"\n",
              "       width=\"24px\">\n",
              "    <path d=\"M0 0h24v24H0V0z\" fill=\"none\"/>\n",
              "    <path d=\"M18.56 5.44l.94 2.06.94-2.06 2.06-.94-2.06-.94-.94-2.06-.94 2.06-2.06.94zm-11 1L8.5 8.5l.94-2.06 2.06-.94-2.06-.94L8.5 2.5l-.94 2.06-2.06.94zm10 10l.94 2.06.94-2.06 2.06-.94-2.06-.94-.94-2.06-.94 2.06-2.06.94z\"/><path d=\"M17.41 7.96l-1.37-1.37c-.4-.4-.92-.59-1.43-.59-.52 0-1.04.2-1.43.59L10.3 9.45l-7.72 7.72c-.78.78-.78 2.05 0 2.83L4 21.41c.39.39.9.59 1.41.59.51 0 1.02-.2 1.41-.59l7.78-7.78 2.81-2.81c.8-.78.8-2.07 0-2.86zM5.41 20L4 18.59l7.72-7.72 1.47 1.35L5.41 20z\"/>\n",
              "  </svg>\n",
              "      </button>\n",
              "      \n",
              "  <style>\n",
              "    .colab-df-container {\n",
              "      display:flex;\n",
              "      flex-wrap:wrap;\n",
              "      gap: 12px;\n",
              "    }\n",
              "\n",
              "    .colab-df-convert {\n",
              "      background-color: #E8F0FE;\n",
              "      border: none;\n",
              "      border-radius: 50%;\n",
              "      cursor: pointer;\n",
              "      display: none;\n",
              "      fill: #1967D2;\n",
              "      height: 32px;\n",
              "      padding: 0 0 0 0;\n",
              "      width: 32px;\n",
              "    }\n",
              "\n",
              "    .colab-df-convert:hover {\n",
              "      background-color: #E2EBFA;\n",
              "      box-shadow: 0px 1px 2px rgba(60, 64, 67, 0.3), 0px 1px 3px 1px rgba(60, 64, 67, 0.15);\n",
              "      fill: #174EA6;\n",
              "    }\n",
              "\n",
              "    [theme=dark] .colab-df-convert {\n",
              "      background-color: #3B4455;\n",
              "      fill: #D2E3FC;\n",
              "    }\n",
              "\n",
              "    [theme=dark] .colab-df-convert:hover {\n",
              "      background-color: #434B5C;\n",
              "      box-shadow: 0px 1px 3px 1px rgba(0, 0, 0, 0.15);\n",
              "      filter: drop-shadow(0px 1px 2px rgba(0, 0, 0, 0.3));\n",
              "      fill: #FFFFFF;\n",
              "    }\n",
              "  </style>\n",
              "\n",
              "      <script>\n",
              "        const buttonEl =\n",
              "          document.querySelector('#df-ac646b92-629d-45b7-a9dc-86dba7ab6b09 button.colab-df-convert');\n",
              "        buttonEl.style.display =\n",
              "          google.colab.kernel.accessAllowed ? 'block' : 'none';\n",
              "\n",
              "        async function convertToInteractive(key) {\n",
              "          const element = document.querySelector('#df-ac646b92-629d-45b7-a9dc-86dba7ab6b09');\n",
              "          const dataTable =\n",
              "            await google.colab.kernel.invokeFunction('convertToInteractive',\n",
              "                                                     [key], {});\n",
              "          if (!dataTable) return;\n",
              "\n",
              "          const docLinkHtml = 'Like what you see? Visit the ' +\n",
              "            '<a target=\"_blank\" href=https://colab.research.google.com/notebooks/data_table.ipynb>data table notebook</a>'\n",
              "            + ' to learn more about interactive tables.';\n",
              "          element.innerHTML = '';\n",
              "          dataTable['output_type'] = 'display_data';\n",
              "          await google.colab.output.renderOutput(dataTable, element);\n",
              "          const docLink = document.createElement('div');\n",
              "          docLink.innerHTML = docLinkHtml;\n",
              "          element.appendChild(docLink);\n",
              "        }\n",
              "      </script>\n",
              "    </div>\n",
              "  </div>\n",
              "  "
            ]
          },
          "metadata": {},
          "execution_count": 4
        }
      ],
      "source": [
        "df = data.iloc[:,1:] #getting rid of the id column\n",
        "df"
      ]
    },
    {
      "cell_type": "markdown",
      "metadata": {
        "id": "_8wkAGki7-DQ"
      },
      "source": [
        "**PCA**"
      ]
    },
    {
      "cell_type": "markdown",
      "source": [
        "Let's try to reduce dementional space. Supposedly, this should enhance clustering"
      ],
      "metadata": {
        "id": "if8D0Nqoao2z"
      }
    },
    {
      "cell_type": "code",
      "execution_count": null,
      "metadata": {
        "id": "l4myhEPn7-DQ"
      },
      "outputs": [],
      "source": [
        "from sklearn.decomposition import PCA"
      ]
    },
    {
      "cell_type": "code",
      "execution_count": null,
      "metadata": {
        "colab": {
          "base_uri": "https://localhost:8080/",
          "height": 296
        },
        "id": "UjF6s_RT7-DR",
        "outputId": "fbdb7925-619a-4bf2-896d-0a12c671c44e"
      },
      "outputs": [
        {
          "output_type": "execute_result",
          "data": {
            "text/plain": [
              "<matplotlib.lines.Line2D at 0x7fe830f305d0>"
            ]
          },
          "metadata": {},
          "execution_count": 90
        },
        {
          "output_type": "display_data",
          "data": {
            "text/plain": [
              "<Figure size 432x288 with 1 Axes>"
            ],
            "image/png": "[encoded data removed]"
          },
          "metadata": {
            "needs_background": "light"
          }
        }
      ],
      "source": [
        "pca = PCA().fit(df)\n",
        "plt.plot(np.cumsum(pca.explained_variance_ratio_))\n",
        "plt.xlabel('number of components')\n",
        "plt.ylabel('cum explained variance')\n",
        "plt.axhline(y=0.90, color='r', linestyle='-')\n",
        "#plt.axvline(x=5, color='g', linestyle='dotted')"
      ]
    },
    {
      "cell_type": "code",
      "execution_count": null,
      "metadata": {
        "colab": {
          "base_uri": "https://localhost:8080/",
          "height": 206
        },
        "id": "CyKRzuiS7-DR",
        "outputId": "967bfb8a-c2b9-4cb0-8eb5-cfd7670434b6"
      },
      "outputs": [
        {
          "output_type": "execute_result",
          "data": {
            "text/plain": [
              "          0         1          2         3         4         5         6  \\\n",
              "0  1.556157 -5.557613  -3.270329 -8.104520  0.071561 -1.385427  2.828349   \n",
              "1 -4.568477  0.739470  10.157775 -2.021838  2.693037 -0.601251 -1.631069   \n",
              "2 -4.351624 -1.553507  -3.405976 -0.571658 -5.900841  1.270737  0.877543   \n",
              "3  6.138703 -1.486696   1.174469  0.735869  2.638841  1.990482 -1.024242   \n",
              "4 -5.003507  0.168320   8.519061  3.071894 -3.085874 -5.797014  0.273272   \n",
              "\n",
              "          7         8         9  \n",
              "0 -0.093798 -2.157359  0.882568  \n",
              "1  0.216927  2.143394 -1.156706  \n",
              "2 -0.759745  1.286147 -0.647782  \n",
              "3 -0.871499  1.439636 -0.386635  \n",
              "4 -0.453798  2.644537 -1.291332  "
            ],
            "text/html": [
              "\n",
              "  <div id=\"df-de33e1b3-e3e8-4fdb-93b0-cfdecff626ce\">\n",
              "    <div class=\"colab-df-container\">\n",
              "      <div>\n",
              "<style scoped>\n",
              "    .dataframe tbody tr th:only-of-type {\n",
              "        vertical-align: middle;\n",
              "    }\n",
              "\n",
              "    .dataframe tbody tr th {\n",
              "        vertical-align: top;\n",
              "    }\n",
              "\n",
              "    .dataframe thead th {\n",
              "        text-align: right;\n",
              "    }\n",
              "</style>\n",
              "<table border=\"1\" class=\"dataframe\">\n",
              "  <thead>\n",
              "    <tr style=\"text-align: right;\">\n",
              "      <th></th>\n",
              "      <th>0</th>\n",
              "      <th>1</th>\n",
              "      <th>2</th>\n",
              "      <th>3</th>\n",
              "      <th>4</th>\n",
              "      <th>5</th>\n",
              "      <th>6</th>\n",
              "      <th>7</th>\n",
              "      <th>8</th>\n",
              "      <th>9</th>\n",
              "    </tr>\n",
              "  </thead>\n",
              "  <tbody>\n",
              "    <tr>\n",
              "      <th>0</th>\n",
              "      <td>1.556157</td>\n",
              "      <td>-5.557613</td>\n",
              "      <td>-3.270329</td>\n",
              "      <td>-8.104520</td>\n",
              "      <td>0.071561</td>\n",
              "      <td>-1.385427</td>\n",
              "      <td>2.828349</td>\n",
              "      <td>-0.093798</td>\n",
              "      <td>-2.157359</td>\n",
              "      <td>0.882568</td>\n",
              "    </tr>\n",
              "    <tr>\n",
              "      <th>1</th>\n",
              "      <td>-4.568477</td>\n",
              "      <td>0.739470</td>\n",
              "      <td>10.157775</td>\n",
              "      <td>-2.021838</td>\n",
              "      <td>2.693037</td>\n",
              "      <td>-0.601251</td>\n",
              "      <td>-1.631069</td>\n",
              "      <td>0.216927</td>\n",
              "      <td>2.143394</td>\n",
              "      <td>-1.156706</td>\n",
              "    </tr>\n",
              "    <tr>\n",
              "      <th>2</th>\n",
              "      <td>-4.351624</td>\n",
              "      <td>-1.553507</td>\n",
              "      <td>-3.405976</td>\n",
              "      <td>-0.571658</td>\n",
              "      <td>-5.900841</td>\n",
              "      <td>1.270737</td>\n",
              "      <td>0.877543</td>\n",
              "      <td>-0.759745</td>\n",
              "      <td>1.286147</td>\n",
              "      <td>-0.647782</td>\n",
              "    </tr>\n",
              "    <tr>\n",
              "      <th>3</th>\n",
              "      <td>6.138703</td>\n",
              "      <td>-1.486696</td>\n",
              "      <td>1.174469</td>\n",
              "      <td>0.735869</td>\n",
              "      <td>2.638841</td>\n",
              "      <td>1.990482</td>\n",
              "      <td>-1.024242</td>\n",
              "      <td>-0.871499</td>\n",
              "      <td>1.439636</td>\n",
              "      <td>-0.386635</td>\n",
              "    </tr>\n",
              "    <tr>\n",
              "      <th>4</th>\n",
              "      <td>-5.003507</td>\n",
              "      <td>0.168320</td>\n",
              "      <td>8.519061</td>\n",
              "      <td>3.071894</td>\n",
              "      <td>-3.085874</td>\n",
              "      <td>-5.797014</td>\n",
              "      <td>0.273272</td>\n",
              "      <td>-0.453798</td>\n",
              "      <td>2.644537</td>\n",
              "      <td>-1.291332</td>\n",
              "    </tr>\n",
              "  </tbody>\n",
              "</table>\n",
              "</div>\n",
              "      <button class=\"colab-df-convert\" onclick=\"convertToInteractive('df-de33e1b3-e3e8-4fdb-93b0-cfdecff626ce')\"\n",
              "              title=\"Convert this dataframe to an interactive table.\"\n",
              "              style=\"display:none;\">\n",
              "        \n",
              "  <svg xmlns=\"http://www.w3.org/2000/svg\" height=\"24px\"viewBox=\"0 0 24 24\"\n",
              "       width=\"24px\">\n",
              "    <path d=\"M0 0h24v24H0V0z\" fill=\"none\"/>\n",
              "    <path d=\"M18.56 5.44l.94 2.06.94-2.06 2.06-.94-2.06-.94-.94-2.06-.94 2.06-2.06.94zm-11 1L8.5 8.5l.94-2.06 2.06-.94-2.06-.94L8.5 2.5l-.94 2.06-2.06.94zm10 10l.94 2.06.94-2.06 2.06-.94-2.06-.94-.94-2.06-.94 2.06-2.06.94z\"/><path d=\"M17.41 7.96l-1.37-1.37c-.4-.4-.92-.59-1.43-.59-.52 0-1.04.2-1.43.59L10.3 9.45l-7.72 7.72c-.78.78-.78 2.05 0 2.83L4 21.41c.39.39.9.59 1.41.59.51 0 1.02-.2 1.41-.59l7.78-7.78 2.81-2.81c.8-.78.8-2.07 0-2.86zM5.41 20L4 18.59l7.72-7.72 1.47 1.35L5.41 20z\"/>\n",
              "  </svg>\n",
              "      </button>\n",
              "      \n",
              "  <style>\n",
              "    .colab-df-container {\n",
              "      display:flex;\n",
              "      flex-wrap:wrap;\n",
              "      gap: 12px;\n",
              "    }\n",
              "\n",
              "    .colab-df-convert {\n",
              "      background-color: #E8F0FE;\n",
              "      border: none;\n",
              "      border-radius: 50%;\n",
              "      cursor: pointer;\n",
              "      display: none;\n",
              "      fill: #1967D2;\n",
              "      height: 32px;\n",
              "      padding: 0 0 0 0;\n",
              "      width: 32px;\n",
              "    }\n",
              "\n",
              "    .colab-df-convert:hover {\n",
              "      background-color: #E2EBFA;\n",
              "      box-shadow: 0px 1px 2px rgba(60, 64, 67, 0.3), 0px 1px 3px 1px rgba(60, 64, 67, 0.15);\n",
              "      fill: #174EA6;\n",
              "    }\n",
              "\n",
              "    [theme=dark] .colab-df-convert {\n",
              "      background-color: #3B4455;\n",
              "      fill: #D2E3FC;\n",
              "    }\n",
              "\n",
              "    [theme=dark] .colab-df-convert:hover {\n",
              "      background-color: #434B5C;\n",
              "      box-shadow: 0px 1px 3px 1px rgba(0, 0, 0, 0.15);\n",
              "      filter: drop-shadow(0px 1px 2px rgba(0, 0, 0, 0.3));\n",
              "      fill: #FFFFFF;\n",
              "    }\n",
              "  </style>\n",
              "\n",
              "      <script>\n",
              "        const buttonEl =\n",
              "          document.querySelector('#df-de33e1b3-e3e8-4fdb-93b0-cfdecff626ce button.colab-df-convert');\n",
              "        buttonEl.style.display =\n",
              "          google.colab.kernel.accessAllowed ? 'block' : 'none';\n",
              "\n",
              "        async function convertToInteractive(key) {\n",
              "          const element = document.querySelector('#df-de33e1b3-e3e8-4fdb-93b0-cfdecff626ce');\n",
              "          const dataTable =\n",
              "            await google.colab.kernel.invokeFunction('convertToInteractive',\n",
              "                                                     [key], {});\n",
              "          if (!dataTable) return;\n",
              "\n",
              "          const docLinkHtml = 'Like what you see? Visit the ' +\n",
              "            '<a target=\"_blank\" href=https://colab.research.google.com/notebooks/data_table.ipynb>data table notebook</a>'\n",
              "            + ' to learn more about interactive tables.';\n",
              "          element.innerHTML = '';\n",
              "          dataTable['output_type'] = 'display_data';\n",
              "          await google.colab.output.renderOutput(dataTable, element);\n",
              "          const docLink = document.createElement('div');\n",
              "          docLink.innerHTML = docLinkHtml;\n",
              "          element.appendChild(docLink);\n",
              "        }\n",
              "      </script>\n",
              "    </div>\n",
              "  </div>\n",
              "  "
            ]
          },
          "metadata": {},
          "execution_count": 9
        }
      ],
      "source": [
        "components = PCA(n_components=10).fit_transform(df)\n",
        "pca_df = pd.DataFrame(components)\n",
        "pca_df.head()"
      ]
    },
    {
      "cell_type": "code",
      "source": [
        "df_plus_pca = pd.concat([df, pca_df], axis=1)"
      ],
      "metadata": {
        "id": "IgOm8GOUu8w-"
      },
      "execution_count": null,
      "outputs": []
    },
    {
      "cell_type": "code",
      "source": [
        "df_plus_pca.corr().iloc[31:,:29]"
      ],
      "metadata": {
        "colab": {
          "base_uri": "https://localhost:8080/",
          "height": 329
        },
        "id": "CLLSZHuAwYFo",
        "outputId": "63bf5e4a-8582-4e20-d33a-99f188606e0f"
      },
      "execution_count": null,
      "outputs": [
        {
          "output_type": "execute_result",
          "data": {
            "text/plain": [
              "       f_00      f_01      f_02      f_03      f_04      f_05      f_06  \\\n",
              "2  0.002271 -0.006589 -0.003420 -0.003074  0.002313 -0.000373  0.007027   \n",
              "3 -0.002803  0.005188  0.001562 -0.001762  0.005408  0.005024 -0.001736   \n",
              "4  0.003233 -0.000776  0.002307  0.004121  0.002600  0.000981 -0.002359   \n",
              "5  0.000349 -0.004093 -0.001187 -0.000166 -0.003351  0.001204 -0.001970   \n",
              "6 -0.000486 -0.000449  0.007542 -0.002733  0.003770 -0.000266 -0.002133   \n",
              "7  0.006931  0.004514  0.000699 -0.001648 -0.006297 -0.005441 -0.005191   \n",
              "8  0.002815 -0.002706 -0.006779 -0.005960 -0.000110  0.008467 -0.000924   \n",
              "9  0.013064 -0.008101  0.000159  0.007286  0.008199  0.014364 -0.008440   \n",
              "\n",
              "       f_07      f_08      f_09  ...      f_19      f_20      f_21      f_22  \\\n",
              "2 -0.130589 -0.556770  0.136856  ... -0.006006  0.002095 -0.005440 -0.020534   \n",
              "3  0.857789 -0.370555 -0.213476  ...  0.001234 -0.003970  0.001329  0.016465   \n",
              "4  0.082969 -0.232846 -0.011369  ...  0.000343 -0.001243  0.002904  0.013919   \n",
              "5 -0.227107 -0.469378 -0.041058  ...  0.001575  0.004141 -0.000538 -0.029214   \n",
              "6  0.336667  0.256578  0.159597  ...  0.003561  0.004455 -0.004427  0.008460   \n",
              "7 -0.020599  0.000143 -0.002606  ...  0.003681  0.002761 -0.002102 -0.423019   \n",
              "8 -0.015116 -0.006333  0.002273  ... -0.002067  0.006725  0.000230  0.232320   \n",
              "9 -0.015179 -0.010681  0.007065  ... -0.017099  0.005356 -0.021015  0.534141   \n",
              "\n",
              "       f_23      f_24      f_25      f_26      f_27      f_28  \n",
              "2 -0.030827  0.000203 -0.047703 -0.058515  0.069136  0.032441  \n",
              "3 -0.087994  0.028027  0.092849 -0.010239  0.004306 -0.022774  \n",
              "4 -0.029477  0.017530 -0.017291 -0.045121  0.062493  0.033107  \n",
              "5  0.062955 -0.043305 -0.078638 -0.014717 -0.021025  0.013527  \n",
              "6 -0.018494  0.006945  0.035108  0.011296 -0.000257 -0.005820  \n",
              "7 -0.546600 -0.344072  0.604721 -0.454168 -0.124199 -0.228822  \n",
              "8 -0.347955  0.716842  0.016103  0.043980 -0.218773 -0.639827  \n",
              "9  0.086090  0.174040  0.700956  0.130076  0.001590  0.364898  \n",
              "\n",
              "[8 rows x 29 columns]"
            ],
            "text/html": [
              "\n",
              "  <div id=\"df-b533d03a-6dcc-4765-af41-dac31ac65b58\">\n",
              "    <div class=\"colab-df-container\">\n",
              "      <div>\n",
              "<style scoped>\n",
              "    .dataframe tbody tr th:only-of-type {\n",
              "        vertical-align: middle;\n",
              "    }\n",
              "\n",
              "    .dataframe tbody tr th {\n",
              "        vertical-align: top;\n",
              "    }\n",
              "\n",
              "    .dataframe thead th {\n",
              "        text-align: right;\n",
              "    }\n",
              "</style>\n",
              "<table border=\"1\" class=\"dataframe\">\n",
              "  <thead>\n",
              "    <tr style=\"text-align: right;\">\n",
              "      <th></th>\n",
              "      <th>f_00</th>\n",
              "      <th>f_01</th>\n",
              "      <th>f_02</th>\n",
              "      <th>f_03</th>\n",
              "      <th>f_04</th>\n",
              "      <th>f_05</th>\n",
              "      <th>f_06</th>\n",
              "      <th>f_07</th>\n",
              "      <th>f_08</th>\n",
              "      <th>f_09</th>\n",
              "      <th>...</th>\n",
              "      <th>f_19</th>\n",
              "      <th>f_20</th>\n",
              "      <th>f_21</th>\n",
              "      <th>f_22</th>\n",
              "      <th>f_23</th>\n",
              "      <th>f_24</th>\n",
              "      <th>f_25</th>\n",
              "      <th>f_26</th>\n",
              "      <th>f_27</th>\n",
              "      <th>f_28</th>\n",
              "    </tr>\n",
              "  </thead>\n",
              "  <tbody>\n",
              "    <tr>\n",
              "      <th>2</th>\n",
              "      <td>0.002271</td>\n",
              "      <td>-0.006589</td>\n",
              "      <td>-0.003420</td>\n",
              "      <td>-0.003074</td>\n",
              "      <td>0.002313</td>\n",
              "      <td>-0.000373</td>\n",
              "      <td>0.007027</td>\n",
              "      <td>-0.130589</td>\n",
              "      <td>-0.556770</td>\n",
              "      <td>0.136856</td>\n",
              "      <td>...</td>\n",
              "      <td>-0.006006</td>\n",
              "      <td>0.002095</td>\n",
              "      <td>-0.005440</td>\n",
              "      <td>-0.020534</td>\n",
              "      <td>-0.030827</td>\n",
              "      <td>0.000203</td>\n",
              "      <td>-0.047703</td>\n",
              "      <td>-0.058515</td>\n",
              "      <td>0.069136</td>\n",
              "      <td>0.032441</td>\n",
              "    </tr>\n",
              "    <tr>\n",
              "      <th>3</th>\n",
              "      <td>-0.002803</td>\n",
              "      <td>0.005188</td>\n",
              "      <td>0.001562</td>\n",
              "      <td>-0.001762</td>\n",
              "      <td>0.005408</td>\n",
              "      <td>0.005024</td>\n",
              "      <td>-0.001736</td>\n",
              "      <td>0.857789</td>\n",
              "      <td>-0.370555</td>\n",
              "      <td>-0.213476</td>\n",
              "      <td>...</td>\n",
              "      <td>0.001234</td>\n",
              "      <td>-0.003970</td>\n",
              "      <td>0.001329</td>\n",
              "      <td>0.016465</td>\n",
              "      <td>-0.087994</td>\n",
              "      <td>0.028027</td>\n",
              "      <td>0.092849</td>\n",
              "      <td>-0.010239</td>\n",
              "      <td>0.004306</td>\n",
              "      <td>-0.022774</td>\n",
              "    </tr>\n",
              "    <tr>\n",
              "      <th>4</th>\n",
              "      <td>0.003233</td>\n",
              "      <td>-0.000776</td>\n",
              "      <td>0.002307</td>\n",
              "      <td>0.004121</td>\n",
              "      <td>0.002600</td>\n",
              "      <td>0.000981</td>\n",
              "      <td>-0.002359</td>\n",
              "      <td>0.082969</td>\n",
              "      <td>-0.232846</td>\n",
              "      <td>-0.011369</td>\n",
              "      <td>...</td>\n",
              "      <td>0.000343</td>\n",
              "      <td>-0.001243</td>\n",
              "      <td>0.002904</td>\n",
              "      <td>0.013919</td>\n",
              "      <td>-0.029477</td>\n",
              "      <td>0.017530</td>\n",
              "      <td>-0.017291</td>\n",
              "      <td>-0.045121</td>\n",
              "      <td>0.062493</td>\n",
              "      <td>0.033107</td>\n",
              "    </tr>\n",
              "    <tr>\n",
              "      <th>5</th>\n",
              "      <td>0.000349</td>\n",
              "      <td>-0.004093</td>\n",
              "      <td>-0.001187</td>\n",
              "      <td>-0.000166</td>\n",
              "      <td>-0.003351</td>\n",
              "      <td>0.001204</td>\n",
              "      <td>-0.001970</td>\n",
              "      <td>-0.227107</td>\n",
              "      <td>-0.469378</td>\n",
              "      <td>-0.041058</td>\n",
              "      <td>...</td>\n",
              "      <td>0.001575</td>\n",
              "      <td>0.004141</td>\n",
              "      <td>-0.000538</td>\n",
              "      <td>-0.029214</td>\n",
              "      <td>0.062955</td>\n",
              "      <td>-0.043305</td>\n",
              "      <td>-0.078638</td>\n",
              "      <td>-0.014717</td>\n",
              "      <td>-0.021025</td>\n",
              "      <td>0.013527</td>\n",
              "    </tr>\n",
              "    <tr>\n",
              "      <th>6</th>\n",
              "      <td>-0.000486</td>\n",
              "      <td>-0.000449</td>\n",
              "      <td>0.007542</td>\n",
              "      <td>-0.002733</td>\n",
              "      <td>0.003770</td>\n",
              "      <td>-0.000266</td>\n",
              "      <td>-0.002133</td>\n",
              "      <td>0.336667</td>\n",
              "      <td>0.256578</td>\n",
              "      <td>0.159597</td>\n",
              "      <td>...</td>\n",
              "      <td>0.003561</td>\n",
              "      <td>0.004455</td>\n",
              "      <td>-0.004427</td>\n",
              "      <td>0.008460</td>\n",
              "      <td>-0.018494</td>\n",
              "      <td>0.006945</td>\n",
              "      <td>0.035108</td>\n",
              "      <td>0.011296</td>\n",
              "      <td>-0.000257</td>\n",
              "      <td>-0.005820</td>\n",
              "    </tr>\n",
              "    <tr>\n",
              "      <th>7</th>\n",
              "      <td>0.006931</td>\n",
              "      <td>0.004514</td>\n",
              "      <td>0.000699</td>\n",
              "      <td>-0.001648</td>\n",
              "      <td>-0.006297</td>\n",
              "      <td>-0.005441</td>\n",
              "      <td>-0.005191</td>\n",
              "      <td>-0.020599</td>\n",
              "      <td>0.000143</td>\n",
              "      <td>-0.002606</td>\n",
              "      <td>...</td>\n",
              "      <td>0.003681</td>\n",
              "      <td>0.002761</td>\n",
              "      <td>-0.002102</td>\n",
              "      <td>-0.423019</td>\n",
              "      <td>-0.546600</td>\n",
              "      <td>-0.344072</td>\n",
              "      <td>0.604721</td>\n",
              "      <td>-0.454168</td>\n",
              "      <td>-0.124199</td>\n",
              "      <td>-0.228822</td>\n",
              "    </tr>\n",
              "    <tr>\n",
              "      <th>8</th>\n",
              "      <td>0.002815</td>\n",
              "      <td>-0.002706</td>\n",
              "      <td>-0.006779</td>\n",
              "      <td>-0.005960</td>\n",
              "      <td>-0.000110</td>\n",
              "      <td>0.008467</td>\n",
              "      <td>-0.000924</td>\n",
              "      <td>-0.015116</td>\n",
              "      <td>-0.006333</td>\n",
              "      <td>0.002273</td>\n",
              "      <td>...</td>\n",
              "      <td>-0.002067</td>\n",
              "      <td>0.006725</td>\n",
              "      <td>0.000230</td>\n",
              "      <td>0.232320</td>\n",
              "      <td>-0.347955</td>\n",
              "      <td>0.716842</td>\n",
              "      <td>0.016103</td>\n",
              "      <td>0.043980</td>\n",
              "      <td>-0.218773</td>\n",
              "      <td>-0.639827</td>\n",
              "    </tr>\n",
              "    <tr>\n",
              "      <th>9</th>\n",
              "      <td>0.013064</td>\n",
              "      <td>-0.008101</td>\n",
              "      <td>0.000159</td>\n",
              "      <td>0.007286</td>\n",
              "      <td>0.008199</td>\n",
              "      <td>0.014364</td>\n",
              "      <td>-0.008440</td>\n",
              "      <td>-0.015179</td>\n",
              "      <td>-0.010681</td>\n",
              "      <td>0.007065</td>\n",
              "      <td>...</td>\n",
              "      <td>-0.017099</td>\n",
              "      <td>0.005356</td>\n",
              "      <td>-0.021015</td>\n",
              "      <td>0.534141</td>\n",
              "      <td>0.086090</td>\n",
              "      <td>0.174040</td>\n",
              "      <td>0.700956</td>\n",
              "      <td>0.130076</td>\n",
              "      <td>0.001590</td>\n",
              "      <td>0.364898</td>\n",
              "    </tr>\n",
              "  </tbody>\n",
              "</table>\n",
              "<p>8 rows × 29 columns</p>\n",
              "</div>\n",
              "      <button class=\"colab-df-convert\" onclick=\"convertToInteractive('df-b533d03a-6dcc-4765-af41-dac31ac65b58')\"\n",
              "              title=\"Convert this dataframe to an interactive table.\"\n",
              "              style=\"display:none;\">\n",
              "        \n",
              "  <svg xmlns=\"http://www.w3.org/2000/svg\" height=\"24px\"viewBox=\"0 0 24 24\"\n",
              "       width=\"24px\">\n",
              "    <path d=\"M0 0h24v24H0V0z\" fill=\"none\"/>\n",
              "    <path d=\"M18.56 5.44l.94 2.06.94-2.06 2.06-.94-2.06-.94-.94-2.06-.94 2.06-2.06.94zm-11 1L8.5 8.5l.94-2.06 2.06-.94-2.06-.94L8.5 2.5l-.94 2.06-2.06.94zm10 10l.94 2.06.94-2.06 2.06-.94-2.06-.94-.94-2.06-.94 2.06-2.06.94z\"/><path d=\"M17.41 7.96l-1.37-1.37c-.4-.4-.92-.59-1.43-.59-.52 0-1.04.2-1.43.59L10.3 9.45l-7.72 7.72c-.78.78-.78 2.05 0 2.83L4 21.41c.39.39.9.59 1.41.59.51 0 1.02-.2 1.41-.59l7.78-7.78 2.81-2.81c.8-.78.8-2.07 0-2.86zM5.41 20L4 18.59l7.72-7.72 1.47 1.35L5.41 20z\"/>\n",
              "  </svg>\n",
              "      </button>\n",
              "      \n",
              "  <style>\n",
              "    .colab-df-container {\n",
              "      display:flex;\n",
              "      flex-wrap:wrap;\n",
              "      gap: 12px;\n",
              "    }\n",
              "\n",
              "    .colab-df-convert {\n",
              "      background-color: #E8F0FE;\n",
              "      border: none;\n",
              "      border-radius: 50%;\n",
              "      cursor: pointer;\n",
              "      display: none;\n",
              "      fill: #1967D2;\n",
              "      height: 32px;\n",
              "      padding: 0 0 0 0;\n",
              "      width: 32px;\n",
              "    }\n",
              "\n",
              "    .colab-df-convert:hover {\n",
              "      background-color: #E2EBFA;\n",
              "      box-shadow: 0px 1px 2px rgba(60, 64, 67, 0.3), 0px 1px 3px 1px rgba(60, 64, 67, 0.15);\n",
              "      fill: #174EA6;\n",
              "    }\n",
              "\n",
              "    [theme=dark] .colab-df-convert {\n",
              "      background-color: #3B4455;\n",
              "      fill: #D2E3FC;\n",
              "    }\n",
              "\n",
              "    [theme=dark] .colab-df-convert:hover {\n",
              "      background-color: #434B5C;\n",
              "      box-shadow: 0px 1px 3px 1px rgba(0, 0, 0, 0.15);\n",
              "      filter: drop-shadow(0px 1px 2px rgba(0, 0, 0, 0.3));\n",
              "      fill: #FFFFFF;\n",
              "    }\n",
              "  </style>\n",
              "\n",
              "      <script>\n",
              "        const buttonEl =\n",
              "          document.querySelector('#df-b533d03a-6dcc-4765-af41-dac31ac65b58 button.colab-df-convert');\n",
              "        buttonEl.style.display =\n",
              "          google.colab.kernel.accessAllowed ? 'block' : 'none';\n",
              "\n",
              "        async function convertToInteractive(key) {\n",
              "          const element = document.querySelector('#df-b533d03a-6dcc-4765-af41-dac31ac65b58');\n",
              "          const dataTable =\n",
              "            await google.colab.kernel.invokeFunction('convertToInteractive',\n",
              "                                                     [key], {});\n",
              "          if (!dataTable) return;\n",
              "\n",
              "          const docLinkHtml = 'Like what you see? Visit the ' +\n",
              "            '<a target=\"_blank\" href=https://colab.research.google.com/notebooks/data_table.ipynb>data table notebook</a>'\n",
              "            + ' to learn more about interactive tables.';\n",
              "          element.innerHTML = '';\n",
              "          dataTable['output_type'] = 'display_data';\n",
              "          await google.colab.output.renderOutput(dataTable, element);\n",
              "          const docLink = document.createElement('div');\n",
              "          docLink.innerHTML = docLinkHtml;\n",
              "          element.appendChild(docLink);\n",
              "        }\n",
              "      </script>\n",
              "    </div>\n",
              "  </div>\n",
              "  "
            ]
          },
          "metadata": {},
          "execution_count": 101
        }
      ]
    },
    {
      "cell_type": "code",
      "source": [
        "sns.set(rc={'figure.figsize':(11.7,8.27)})\n",
        "sns.heatmap(df_plus_pca.corr().iloc[29:,:29])"
      ],
      "metadata": {
        "colab": {
          "base_uri": "https://localhost:8080/",
          "height": 530
        },
        "id": "W5MU5FLovVhI",
        "outputId": "39552dc6-76d8-41b0-eadf-5174ddcef059"
      },
      "execution_count": null,
      "outputs": [
        {
          "output_type": "execute_result",
          "data": {
            "text/plain": [
              "<matplotlib.axes._subplots.AxesSubplot at 0x7fe82e2015d0>"
            ]
          },
          "metadata": {},
          "execution_count": 110
        },
        {
          "output_type": "display_data",
          "data": {
            "text/plain": [
              "<Figure size 842.4x595.44 with 2 Axes>"
            ],
            "image/png": "[encoded data removed]"
          },
          "metadata": {}
        }
      ]
    },
    {
      "cell_type": "markdown",
      "source": [
        "We see that the most informative features are f_07-f_13 and f_22-f_28"
      ],
      "metadata": {
        "id": "4mPQEegVayZR"
      }
    },
    {
      "cell_type": "markdown",
      "metadata": {
        "id": "ROncSjjA7-DS"
      },
      "source": [
        "**K-means**"
      ]
    },
    {
      "cell_type": "markdown",
      "source": [
        "Let's start with k-means"
      ],
      "metadata": {
        "id": "cVgoKlwZa7Im"
      }
    },
    {
      "cell_type": "code",
      "execution_count": null,
      "metadata": {
        "id": "cstEDNIB7-DS"
      },
      "outputs": [],
      "source": [
        "from sklearn.cluster import KMeans\n",
        "from yellowbrick.cluster import KElbowVisualizer"
      ]
    },
    {
      "cell_type": "code",
      "execution_count": null,
      "metadata": {
        "id": "X3DXkQpu7-DS",
        "outputId": "f7ebb52c-0c7b-48f0-e265-0be557e8bb6a"
      },
      "outputs": [
        {
          "data": {
            "image/png": "[encoded data removed]",
            "text/plain": [
              "<Figure size 576x396 with 2 Axes>"
            ]
          },
          "metadata": {},
          "output_type": "display_data"
        },
        {
          "data": {
            "text/plain": [
              "<AxesSubplot:title={'center':'Distortion Score Elbow for KMeans Clustering'}, xlabel='k', ylabel='distortion score'>"
            ]
          },
          "execution_count": 12,
          "metadata": {},
          "output_type": "execute_result"
        }
      ],
      "source": [
        "model = KMeans()\n",
        "visualizer = KElbowVisualizer(model, k=(4,20))\n",
        "visualizer.fit(pca_df)        # Fit the data to the visualizer\n",
        "visualizer.show()        # Finalize and render the figure"
      ]
    },
    {
      "cell_type": "markdown",
      "source": [
        "We do not see a very distinctive elbow, so the method should not work well. However, for K-Means 9 classes are recommended, so we shoud try this out "
      ],
      "metadata": {
        "id": "2gVvaGd5a-nQ"
      }
    },
    {
      "cell_type": "code",
      "execution_count": null,
      "metadata": {
        "id": "oJWTHZE_7-DS"
      },
      "outputs": [],
      "source": [
        "kmeans = KMeans(n_clusters=9).fit_predict(pca_df)\n",
        "kmeans"
      ]
    },
    {
      "cell_type": "code",
      "execution_count": null,
      "metadata": {
        "id": "8TmbFHMa7-DT"
      },
      "outputs": [],
      "source": [
        "output = pd.DataFrame()\n",
        "output['Id'] = data['id']\n",
        "output['Predicted'] = kmeans\n",
        "# output.to_csv('/kaggle/working/jul22_kmeans9_1.csv',  index=False)"
      ]
    },
    {
      "cell_type": "markdown",
      "metadata": {
        "id": "N11mk69A7-DT"
      },
      "source": [
        "### **DBSCAN**"
      ]
    },
    {
      "cell_type": "code",
      "execution_count": null,
      "metadata": {
        "id": "w2oqX36H7-DT"
      },
      "outputs": [],
      "source": [
        "from sklearn.cluster import DBSCAN\n",
        "import collections"
      ]
    },
    {
      "cell_type": "code",
      "execution_count": null,
      "metadata": {
        "colab": {
          "base_uri": "https://localhost:8080/"
        },
        "id": "WfhGg1Em7-DT",
        "outputId": "dfff1c08-d2fb-4d5b-87ba-0b175b0f5181"
      },
      "outputs": [
        {
          "output_type": "stream",
          "name": "stdout",
          "text": [
            "eps =  2\n",
            "10 Counter({-1: 98000})\n",
            "-----------\n",
            "15 Counter({-1: 98000})\n",
            "-----------\n",
            "20 Counter({-1: 98000})\n",
            "-----------\n",
            "25 Counter({-1: 98000})\n",
            "-----------\n",
            "30 Counter({-1: 98000})\n",
            "-----------\n",
            "eps =  3\n",
            "10 Counter({-1: 95556, 1: 963, 5: 356, 0: 83, 12: 74, 8: 53, 9: 31, 38: 30, 17: 24, 23: 21, 2: 20, 22: 19, 35: 19, 53: 18, 6: 18, 7: 16, 14: 16, 13: 16, 67: 16, 80: 15, 16: 15, 11: 14, 70: 14, 56: 14, 3: 13, 51: 13, 42: 13, 44: 12, 18: 12, 72: 12, 65: 12, 54: 12, 62: 12, 48: 11, 19: 11, 26: 11, 39: 10, 10: 10, 40: 10, 4: 10, 68: 10, 60: 10, 36: 10, 46: 10, 55: 10, 15: 10, 58: 10, 20: 10, 74: 10, 37: 10, 64: 10, 75: 10, 81: 10, 33: 10, 71: 10, 34: 10, 59: 10, 32: 10, 82: 10, 73: 10, 69: 10, 47: 9, 77: 9, 24: 9, 28: 9, 78: 9, 27: 9, 63: 9, 31: 9, 29: 9, 49: 9, 30: 9, 66: 8, 61: 8, 76: 8, 45: 8, 21: 8, 50: 8, 41: 8, 79: 7, 25: 7, 57: 6, 52: 6, 43: 4})\n",
            "-----------\n",
            "15 Counter({-1: 97626, 1: 157, 0: 138, 3: 24, 2: 15, 6: 15, 4: 15, 5: 10})\n",
            "-----------\n",
            "20 Counter({-1: 97920, 1: 37, 0: 23, 2: 20})\n",
            "-----------\n",
            "25 Counter({-1: 98000})\n",
            "-----------\n",
            "30 Counter({-1: 98000})\n",
            "-----------\n",
            "eps =  4\n",
            "10 Counter({0: 68531, -1: 29420, 6: 12, 7: 10, 3: 7, 5: 7, 1: 6, 4: 4, 2: 3})\n",
            "-----------\n",
            "15 Counter({0: 60425, -1: 37441, 2: 60, 1: 28, 5: 20, 4: 14, 3: 12})\n",
            "-----------\n",
            "20 Counter({0: 53167, -1: 44550, 2: 136, 5: 27, 4: 23, 6: 23, 3: 23, 1: 20, 7: 16, 8: 15})\n",
            "-----------\n",
            "25 Counter({-1: 51194, 0: 46757, 1: 28, 2: 21})\n",
            "-----------\n",
            "30 Counter({-1: 56689, 0: 41176, 1: 103, 2: 32})\n",
            "-----------\n",
            "eps =  5\n",
            "10 Counter({0: 93976, -1: 4024})\n",
            "-----------\n",
            "15 Counter({0: 92954, -1: 5046})\n",
            "-----------\n",
            "20 Counter({0: 91919, -1: 6081})\n",
            "-----------\n",
            "25 Counter({0: 90831, -1: 7169})\n",
            "-----------\n",
            "30 Counter({0: 89717, -1: 8283})\n",
            "-----------\n"
          ]
        }
      ],
      "source": [
        "sugg = [2,3,4,5]\n",
        "# sugg = [x*50 for x in sugg]\n",
        "for i in sugg:\n",
        "    print('eps = ',i)\n",
        "    for g in [10,15,20,25,30]:\n",
        "        clustering = DBSCAN(eps=i, min_samples=g).fit(pca_df)\n",
        "        clustering.labels_\n",
        "        print(g, collections.Counter(list(clustering.labels_)))\n",
        "        print('-----------')\n",
        "#     if len(collections.Counter(list(clustering.labels_))) == 1:\n",
        "#         break"
      ]
    },
    {
      "cell_type": "markdown",
      "metadata": {
        "id": "rIFR_Z7y7-DU"
      },
      "source": [
        "OK, let's try a DBSCAN tuning hack with an elbow method: https://stackoverflow.com/questions/15050389/estimating-choosing-optimal-hyperparameters-for-dbscan"
      ]
    },
    {
      "cell_type": "code",
      "execution_count": null,
      "metadata": {
        "id": "gBiiFHbH7-DU"
      },
      "outputs": [],
      "source": [
        "from sklearn.neighbors import NearestNeighbors\n",
        "from matplotlib import pyplot as plt"
      ]
    },
    {
      "cell_type": "code",
      "execution_count": null,
      "metadata": {
        "id": "A6pzt3hb7-DU"
      },
      "outputs": [],
      "source": [
        "neighbors = NearestNeighbors(n_neighbors=20)\n",
        "neighbors_fit = neighbors.fit(pca_df)\n",
        "distances, indices = neighbors_fit.kneighbors(pca_df)"
      ]
    },
    {
      "cell_type": "code",
      "execution_count": null,
      "metadata": {
        "id": "x6stTpvM7-DU",
        "colab": {
          "base_uri": "https://localhost:8080/",
          "height": 283
        },
        "outputId": "c934b47b-92da-4e45-cf74-e9c8d5f8f8e0"
      },
      "outputs": [
        {
          "output_type": "execute_result",
          "data": {
            "text/plain": [
              "[<matplotlib.lines.Line2D at 0x7f64c52d4290>]"
            ]
          },
          "metadata": {},
          "execution_count": 13
        },
        {
          "output_type": "display_data",
          "data": {
            "text/plain": [
              "<Figure size 432x288 with 1 Axes>"
            ],
            "image/png": "[encoded data removed]"
          },
          "metadata": {
            "needs_background": "light"
          }
        }
      ],
      "source": [
        "distances = np.sort(distances, axis=0)\n",
        "distances_n = distances[97000:,1]\n",
        "plt.plot(distances_n)"
      ]
    },
    {
      "cell_type": "code",
      "execution_count": null,
      "metadata": {
        "id": "BL8ORNRA7-DU",
        "colab": {
          "base_uri": "https://localhost:8080/"
        },
        "outputId": "67de6f36-ece2-4194-dafa-d46409d07cea"
      },
      "outputs": [
        {
          "output_type": "stream",
          "name": "stdout",
          "text": [
            "30 Counter({0: 97877, -1: 123})\n"
          ]
        }
      ],
      "source": [
        "clustering = DBSCAN(eps=7, min_samples=20).fit(pca_df)\n",
        "clustering.labels_\n",
        "print(g, collections.Counter(list(clustering.labels_)))"
      ]
    },
    {
      "cell_type": "markdown",
      "metadata": {
        "id": "gLp3RWl57-DU"
      },
      "source": [
        "We see that DBSCAN does not works for this dataset: in the cases of adequate number of clusters, clusters themselves are highly imbalanced. So let's move to Gaussians"
      ]
    },
    {
      "cell_type": "markdown",
      "metadata": {
        "id": "oeKQ5vc47-DV"
      },
      "source": [
        "### **GMM**"
      ]
    },
    {
      "cell_type": "code",
      "execution_count": null,
      "metadata": {
        "id": "L-uSy2ZunuSK"
      },
      "outputs": [],
      "source": [
        "from sklearn import metrics"
      ]
    },
    {
      "cell_type": "code",
      "execution_count": null,
      "metadata": {
        "id": "FGAMNwCtLUss"
      },
      "outputs": [],
      "source": [
        "from sklearn.mixture import GaussianMixture"
      ]
    },
    {
      "cell_type": "code",
      "execution_count": null,
      "metadata": {
        "id": "DgWU6I6Qo20G"
      },
      "outputs": [],
      "source": [
        "from tqdm import tqdm"
      ]
    },
    {
      "cell_type": "code",
      "execution_count": null,
      "metadata": {
        "id": "MvQI3sRMrNmr"
      },
      "outputs": [],
      "source": [
        "gm = GaussianMixture(n_components=7, n_init=20, max_iter=300, random_state=0).fit_predict(df) #0.49"
      ]
    },
    {
      "cell_type": "code",
      "source": [
        "gm = GaussianMixture(n_components=8, n_init=20, max_iter=300, random_state=0).fit_predict(df) #0.47"
      ],
      "metadata": {
        "id": "1cnem2kd21Mr"
      },
      "execution_count": null,
      "outputs": []
    },
    {
      "cell_type": "markdown",
      "source": [
        "I will stick with 7 components, as I iteratively found it is the optimal number. We see that Gaussians work the best, so let's try it on PCA dataset and with informative variables only"
      ],
      "metadata": {
        "id": "S4ifcdRZc_D8"
      }
    },
    {
      "cell_type": "code",
      "execution_count": null,
      "metadata": {
        "id": "aFEfNYmluc47"
      },
      "outputs": [],
      "source": [
        "gm = GaussianMixture(n_components=7, n_init=20, max_iter=300, random_state=0).fit_predict(pca_df) #0.33"
      ]
    },
    {
      "cell_type": "code",
      "source": [
        "df_cut = df[['f_07','f_08','f_09','f_10','f_11','f_12','f_22','f_23','f_24','f_25','f_26','f_27','f_28']]"
      ],
      "metadata": {
        "id": "NfhH8DJxw8hj"
      },
      "execution_count": 9,
      "outputs": []
    },
    {
      "cell_type": "code",
      "source": [
        "gm = GaussianMixture(n_components=7, n_init=20, max_iter=300, random_state=0).fit_predict(df_cut) #0.48"
      ],
      "metadata": {
        "id": "Iog35nwGxgxJ"
      },
      "execution_count": null,
      "outputs": []
    },
    {
      "cell_type": "code",
      "source": [
        "output = pd.DataFrame()\n",
        "output['Id'] = data.id\n",
        "output['Predicted'] = gm\n",
        "output.to_csv('/content/drive/MyDrive/jul22_gmm7_cut.csv', index = False) #0.48"
      ],
      "metadata": {
        "id": "SQ2-hWWoyXk-"
      },
      "execution_count": null,
      "outputs": []
    },
    {
      "cell_type": "markdown",
      "source": [
        "We see that PCA dramatically worsened the performance of the clusterization. This may mean, that the variables are interconnected in a non-linear fashion which cannot be implemented in PCA. The cut version totalled the same performance as the full version."
      ],
      "metadata": {
        "id": "OQcl6JAQdcsb"
      }
    },
    {
      "cell_type": "markdown",
      "source": [
        "### **BGMM**"
      ],
      "metadata": {
        "id": "1gY4RjYyONIh"
      }
    },
    {
      "cell_type": "code",
      "source": [
        "from sklearn.mixture import BayesianGaussianMixture"
      ],
      "metadata": {
        "id": "RSR_d88KOQRS"
      },
      "execution_count": 49,
      "outputs": []
    },
    {
      "cell_type": "code",
      "source": [
        "from sklearn.preprocessing import StandardScaler\n",
        "scaler = StandardScaler()"
      ],
      "metadata": {
        "id": "K52RLTOjmSA3"
      },
      "execution_count": null,
      "outputs": []
    },
    {
      "cell_type": "code",
      "source": [
        "bay_gmm = BayesianGaussianMixture(n_components=7, n_init=20)\n",
        "\n",
        "bay_gmm.fit(df)\n",
        "\n",
        "bay_gmm_weights = bay_gmm.weights_\n",
        "np.round(bay_gmm_weights, 2)"
      ],
      "metadata": {
        "colab": {
          "base_uri": "https://localhost:8080/"
        },
        "id": "i4He-RfLOcnD",
        "outputId": "71275960-ce7d-48dd-fd3a-21b6ebb63196"
      },
      "execution_count": null,
      "outputs": [
        {
          "output_type": "execute_result",
          "data": {
            "text/plain": [
              "array([0.19, 0.12, 0.14, 0.18, 0.14, 0.13, 0.11])"
            ]
          },
          "metadata": {},
          "execution_count": 127
        }
      ]
    },
    {
      "cell_type": "code",
      "source": [
        "bay_res = bay_gmm.predict(df) #0.51\n",
        "bay_res"
      ],
      "metadata": {
        "colab": {
          "base_uri": "https://localhost:8080/"
        },
        "id": "BCcN-MatTgWG",
        "outputId": "29ede4fc-a337-4ea0-b03e-502da6d81829"
      },
      "execution_count": null,
      "outputs": [
        {
          "output_type": "execute_result",
          "data": {
            "text/plain": [
              "array([4, 2, 4, ..., 3, 3, 5])"
            ]
          },
          "metadata": {},
          "execution_count": 129
        }
      ]
    },
    {
      "cell_type": "code",
      "source": [
        "output = pd.DataFrame()\n",
        "output['Id'] = data.id\n",
        "output['Predicted'] = bay_res\n",
        "output.to_csv('/content/drive/MyDrive/jul22_bgmm7.csv', index = False) "
      ],
      "metadata": {
        "id": "AsvTTAiHU15q"
      },
      "execution_count": null,
      "outputs": []
    },
    {
      "cell_type": "markdown",
      "source": [
        "Let's add PowerTransfoemer that makes distribution more Gaussian, it should enhance result"
      ],
      "metadata": {
        "id": "9vpdFMJc_WgV"
      }
    },
    {
      "cell_type": "code",
      "source": [
        "from sklearn.preprocessing import PowerTransformer\n",
        "transformer = PowerTransformer()"
      ],
      "metadata": {
        "id": "LfA8AdaW0hBZ"
      },
      "execution_count": 6,
      "outputs": []
    },
    {
      "cell_type": "code",
      "source": [
        "transfromed_df =transformer.fit_transform(df_cut)"
      ],
      "metadata": {
        "id": "SYCfVBI4OL4W"
      },
      "execution_count": null,
      "outputs": []
    },
    {
      "cell_type": "code",
      "source": [
        "bay_gmm = BayesianGaussianMixture(n_components=6, n_init=10)\n",
        "\n",
        "bay_gmm.fit(transfromed_df)\n",
        "\n",
        "bay_gmm_weights = bay_gmm.weights_\n",
        "np.round(bay_gmm_weights, 2)"
      ],
      "metadata": {
        "colab": {
          "base_uri": "https://localhost:8080/"
        },
        "id": "iIEW6QmAKDv3",
        "outputId": "f1df2a96-afaa-4f09-fe0b-9ad39c411739"
      },
      "execution_count": null,
      "outputs": [
        {
          "output_type": "stream",
          "name": "stderr",
          "text": [
            "/usr/local/lib/python3.7/dist-packages/sklearn/mixture/_base.py:282: ConvergenceWarning: Initialization 10 did not converge. Try different init parameters, or increase max_iter, tol or check for degenerate data.\n",
            "  ConvergenceWarning,\n"
          ]
        },
        {
          "output_type": "execute_result",
          "data": {
            "text/plain": [
              "array([0.22, 0.22, 0.18, 0.11, 0.13, 0.14])"
            ]
          },
          "metadata": {},
          "execution_count": 15
        }
      ]
    },
    {
      "cell_type": "code",
      "source": [
        "bay_res = bay_gmm.predict(transfromed_df) \n",
        "bay_res"
      ],
      "metadata": {
        "id": "0fFp_jISNQs-"
      },
      "execution_count": null,
      "outputs": []
    },
    {
      "cell_type": "code",
      "source": [
        "output = pd.DataFrame()\n",
        "output['Id'] = data.id\n",
        "output['Predicted'] = bay_res\n",
        "output.to_csv('/content/drive/MyDrive/jul22_bgmm6_trans.csv', index = False) #0.53"
      ],
      "metadata": {
        "id": "OAJ7YFtHNUPt"
      },
      "execution_count": null,
      "outputs": []
    },
    {
      "cell_type": "markdown",
      "source": [
        "When using Bayesian Gaussians we have bettered our performance. Interestingly, for BGMM cut version works better.\n",
        "Next, I want to apply scalers and Gaussian transformer to get better results"
      ],
      "metadata": {
        "id": "yaOQpASld2H6"
      }
    },
    {
      "cell_type": "code",
      "source": [
        "transfromed_df =transformer.fit_transform(df_cut)\n",
        "scaled_df = scaler.fit_transform(transfromed_df)\n",
        "\n",
        "bay_gmm = BayesianGaussianMixture(n_components=6, n_init=20, max_iter = 300)\n",
        "\n",
        "bay_gmm.fit(scaled_df)\n",
        "\n",
        "bay_gmm_weights = bay_gmm.weights_\n",
        "print(np.round(bay_gmm_weights, 2))\n",
        "\n",
        "bay_res = bay_gmm.predict(scaled_df) \n"
      ],
      "metadata": {
        "id": "lTzxRbXAWaVh"
      },
      "execution_count": null,
      "outputs": []
    },
    {
      "cell_type": "code",
      "source": [
        "output = pd.DataFrame()\n",
        "output['Id'] = data.id\n",
        "output['Predicted'] = bay_res\n",
        "output.to_csv('/content/drive/MyDrive/jul22_bgmm6_scaledTHANtransed.csv', index = False) #0.53"
      ],
      "metadata": {
        "id": "kFXA3K9oYdrZ"
      },
      "execution_count": null,
      "outputs": []
    },
    {
      "cell_type": "code",
      "source": [
        "from sklearn.preprocessing import RobustScaler\n",
        "rb_scaler=RobustScaler()"
      ],
      "metadata": {
        "id": "HS7xnVK2r82k"
      },
      "execution_count": 7,
      "outputs": []
    },
    {
      "cell_type": "code",
      "source": [
        "transfromed_df = transformer.fit_transform(df_cut)\n",
        "robust_scaled_df = rb_scaler.fit_transform(transfromed_df)"
      ],
      "metadata": {
        "id": "40LpO9xjy4C3"
      },
      "execution_count": 10,
      "outputs": []
    },
    {
      "cell_type": "code",
      "source": [
        "bay_gmm = BayesianGaussianMixture(n_components=6, n_init=20, max_iter = 300)\n",
        "\n",
        "bay_gmm.fit(robust_scaled_df)\n",
        "\n",
        "bay_gmm_weights = bay_gmm.weights_\n",
        "print(np.round(bay_gmm_weights, 2))\n",
        "\n",
        "bay_res = bay_gmm.predict(robust_scaled_df) "
      ],
      "metadata": {
        "colab": {
          "base_uri": "https://localhost:8080/"
        },
        "id": "lpzW3WjItohT",
        "outputId": "b08cee60-f7b6-4131-941c-f4df4bc2507b"
      },
      "execution_count": null,
      "outputs": [
        {
          "output_type": "stream",
          "name": "stdout",
          "text": [
            "[0.22 0.22 0.14 0.18 0.11 0.13]\n"
          ]
        }
      ]
    },
    {
      "cell_type": "code",
      "source": [
        "output = pd.DataFrame()\n",
        "output['Id'] = data.id\n",
        "output['Predicted'] = bay_res\n",
        "output.to_csv('/content/drive/MyDrive/jul22_bgmm6_ROBscaledTHANtransed.csv', index = False) #0.53082 "
      ],
      "metadata": {
        "id": "UIJqu7jKuSqT"
      },
      "execution_count": null,
      "outputs": []
    },
    {
      "cell_type": "code",
      "source": [
        "transfromed_df = transformer.fit_transform(df)\n",
        "robust_scaled_df = rb_scaler.fit_transform(transfromed_df)"
      ],
      "metadata": {
        "id": "34b6NWqC0WEw"
      },
      "execution_count": null,
      "outputs": []
    },
    {
      "cell_type": "code",
      "source": [
        "bay_gmm = BayesianGaussianMixture(n_components=6, n_init=20, max_iter = 400)\n",
        "\n",
        "bay_gmm.fit(robust_scaled_df)\n",
        "\n",
        "bay_gmm_weights = bay_gmm.weights_\n",
        "print(np.round(bay_gmm_weights, 2))\n",
        "\n",
        "bay_res = bay_gmm.predict(robust_scaled_df) "
      ],
      "metadata": {
        "colab": {
          "base_uri": "https://localhost:8080/"
        },
        "id": "MPN_MzhSynHe",
        "outputId": "47ea8648-b5c3-4558-92fe-7881fd8281b9"
      },
      "execution_count": null,
      "outputs": [
        {
          "output_type": "stream",
          "name": "stdout",
          "text": [
            "[0.22 0.14 0.13 0.22 0.17 0.11]\n"
          ]
        }
      ]
    },
    {
      "cell_type": "code",
      "source": [
        "output = pd.DataFrame()\n",
        "output['Id'] = data.id\n",
        "output['Predicted'] = bay_res\n",
        "output.to_csv('/content/drive/MyDrive/jul22_bgmm6_allvars_ROBscaledTHANtransed.csv', index = False) #0.55 best"
      ],
      "metadata": {
        "id": "9X6aQCVS2NuC"
      },
      "execution_count": null,
      "outputs": []
    },
    {
      "cell_type": "markdown",
      "metadata": {
        "id": "jt719XOSyQQm"
      },
      "source": [
        "### **Autoencoder**"
      ]
    },
    {
      "cell_type": "markdown",
      "source": [
        "In this section I try to cut dimensions with an autoencoder using DF version with significant variables only."
      ],
      "metadata": {
        "id": "icxgTE-pLU-W"
      }
    },
    {
      "cell_type": "code",
      "execution_count": 11,
      "metadata": {
        "id": "44VtbUrm6dqw"
      },
      "outputs": [],
      "source": [
        "import torch\n",
        "import torch.nn as nn\n",
        "import torchvision.transforms as transforms\n",
        "import torchvision.datasets as dsets\n",
        "from torch.autograd import Variable\n",
        "from torch.utils.data import DataLoader\n",
        "from torch.utils.data import Dataset\n",
        "\n",
        "# Set seed\n",
        "torch.manual_seed(0)\n",
        "\n",
        "# Scheduler import\n",
        "from torch.optim.lr_scheduler import StepLR\n",
        "import matplotlib.pyplot as plt\n",
        "import numpy as np\n",
        "%matplotlib inline"
      ]
    },
    {
      "cell_type": "code",
      "execution_count": 40,
      "metadata": {
        "id": "uRrbiPlVwyZl"
      },
      "outputs": [],
      "source": [
        "batch_size = 16\n",
        "loader = torch.utils.data.DataLoader(torch.tensor(robust_scaled_df), batch_size=batch_size, shuffle=True,drop_last=True)"
      ]
    },
    {
      "cell_type": "code",
      "source": [
        "class AutoEncoderSeq(nn.Module):\n",
        "  def __init__(self): \n",
        "    super().__init__()\n",
        "    self.encoder = nn.Sequential(\n",
        "            nn.Linear(robust_scaled_df.shape[1], 14), \n",
        "            nn.Tanh(),\n",
        "            nn.Linear(14, 12),\n",
        "            nn.Tanh(),\n",
        "            nn.Linear(12, 10),\n",
        "            nn.Tanh(),\n",
        "            nn.Linear(10, 10),\n",
        "            nn.Tanh(),\n",
        "            nn.Linear(10, 9),\n",
        "            nn.Tanh(),\n",
        "            nn.Linear(9, 9),\n",
        "            nn.Tanh())    \n",
        "    self.decoder = nn.Sequential(\n",
        "            nn.Linear(9, 9),\n",
        "            nn.Tanh(),\n",
        "            nn.Linear(9, 10), \n",
        "            nn.Tanh(),\n",
        "            nn.Linear(10, 10),\n",
        "            nn.Tanh(),            \n",
        "            nn.Linear(10, 12),\n",
        "            nn.Tanh(),\n",
        "            nn.Linear(12, 14),\n",
        "            nn.Tanh(),\n",
        "            nn.Linear(14, robust_scaled_df.shape[1]),\n",
        "            nn.Tanh())\n",
        "    \n",
        "  def forward(self, x):\n",
        "    encodings = self.encoder(x)\n",
        "    decodings = self.decoder(encodings)\n",
        "    return decodings, encodings\n",
        "      "
      ],
      "metadata": {
        "id": "ZWvna2aRHP2d"
      },
      "execution_count": 26,
      "outputs": []
    },
    {
      "cell_type": "code",
      "source": [
        "model = AutoEncoderSeq()\n",
        "criterion = nn.MSELoss()\n",
        "learning_rate = 0.0003\n",
        "optimizer = torch.optim.Adam(model.parameters(), lr = learning_rate)"
      ],
      "metadata": {
        "id": "NklhxjeZEcgG"
      },
      "execution_count": 42,
      "outputs": []
    },
    {
      "cell_type": "code",
      "source": [
        "num_epochs = 100\n",
        "\n",
        "for epoch in tqdm(range(num_epochs)):\n",
        "  \n",
        "  model.train()\n",
        "\n",
        "  for data in loader:\n",
        "\n",
        "    optimizer.zero_grad()\n",
        "\n",
        "    result = model(data.float())[0]\n",
        "\n",
        "    loss = criterion(result, data.float())\n",
        "\n",
        "    loss.backward()\n",
        "\n",
        "    optimizer.step()\n",
        "\n",
        "  model.eval()\n",
        "\n",
        "  if (epoch+1)%10 == 0:\n",
        "\n",
        "    print(f'EPOCH = {epoch+1}, TEST_LOSS = {loss}')"
      ],
      "metadata": {
        "colab": {
          "base_uri": "https://localhost:8080/"
        },
        "id": "K4_wQyuaHiDD",
        "outputId": "ca33f9bc-0b08-4f01-bffb-a617c8c945c2"
      },
      "execution_count": 43,
      "outputs": [
        {
          "output_type": "stream",
          "name": "stderr",
          "text": [
            " 10%|█         | 10/100 [02:26<22:00, 14.68s/it]"
          ]
        },
        {
          "output_type": "stream",
          "name": "stdout",
          "text": [
            "EPOCH = 10, TEST_LOSS = 0.14223048090934753\n"
          ]
        },
        {
          "output_type": "stream",
          "name": "stderr",
          "text": [
            " 19%|█▉        | 19/100 [04:38<19:48, 14.67s/it]"
          ]
        },
        {
          "output_type": "stream",
          "name": "stdout",
          "text": [
            "EPOCH = 20, TEST_LOSS = 0.10333346575498581\n"
          ]
        },
        {
          "output_type": "stream",
          "name": "stderr",
          "text": [
            " 30%|███       | 30/100 [07:21<17:15, 14.80s/it]"
          ]
        },
        {
          "output_type": "stream",
          "name": "stdout",
          "text": [
            "EPOCH = 30, TEST_LOSS = 0.10539967566728592\n"
          ]
        },
        {
          "output_type": "stream",
          "name": "stderr",
          "text": [
            " 40%|████      | 40/100 [09:49<14:46, 14.78s/it]"
          ]
        },
        {
          "output_type": "stream",
          "name": "stdout",
          "text": [
            "EPOCH = 40, TEST_LOSS = 0.1479683220386505\n"
          ]
        },
        {
          "output_type": "stream",
          "name": "stderr",
          "text": [
            " 50%|█████     | 50/100 [12:17<12:18, 14.77s/it]"
          ]
        },
        {
          "output_type": "stream",
          "name": "stdout",
          "text": [
            "EPOCH = 50, TEST_LOSS = 0.10822547972202301\n"
          ]
        },
        {
          "output_type": "stream",
          "name": "stderr",
          "text": [
            " 60%|██████    | 60/100 [14:44<09:47, 14.69s/it]"
          ]
        },
        {
          "output_type": "stream",
          "name": "stdout",
          "text": [
            "EPOCH = 60, TEST_LOSS = 0.06453966349363327\n"
          ]
        },
        {
          "output_type": "stream",
          "name": "stderr",
          "text": [
            " 70%|███████   | 70/100 [17:10<07:20, 14.69s/it]"
          ]
        },
        {
          "output_type": "stream",
          "name": "stdout",
          "text": [
            "EPOCH = 70, TEST_LOSS = 0.11895883083343506\n"
          ]
        },
        {
          "output_type": "stream",
          "name": "stderr",
          "text": [
            " 80%|████████  | 80/100 [19:37<04:54, 14.73s/it]"
          ]
        },
        {
          "output_type": "stream",
          "name": "stdout",
          "text": [
            "EPOCH = 80, TEST_LOSS = 0.1296750158071518\n"
          ]
        },
        {
          "output_type": "stream",
          "name": "stderr",
          "text": [
            " 90%|█████████ | 90/100 [22:04<02:26, 14.64s/it]"
          ]
        },
        {
          "output_type": "stream",
          "name": "stdout",
          "text": [
            "EPOCH = 90, TEST_LOSS = 0.11723531782627106\n"
          ]
        },
        {
          "output_type": "stream",
          "name": "stderr",
          "text": [
            "100%|██████████| 100/100 [24:32<00:00, 14.73s/it]"
          ]
        },
        {
          "output_type": "stream",
          "name": "stdout",
          "text": [
            "EPOCH = 100, TEST_LOSS = 0.11763647943735123\n"
          ]
        },
        {
          "output_type": "stream",
          "name": "stderr",
          "text": [
            "\n"
          ]
        }
      ]
    },
    {
      "cell_type": "code",
      "execution_count": 44,
      "metadata": {
        "id": "Nz2ZcOB6Vr9q"
      },
      "outputs": [],
      "source": [
        "model.eval()\n",
        "autoencoded_df = pd.DataFrame(model(torch.tensor(robust_scaled_df).float())[1].detach().numpy())"
      ]
    },
    {
      "cell_type": "code",
      "execution_count": 45,
      "metadata": {
        "colab": {
          "base_uri": "https://localhost:8080/",
          "height": 411
        },
        "id": "qZTl1rp3Vy2M",
        "outputId": "4bbde88c-e29e-4458-e9e7-32886d4cd960"
      },
      "outputs": [
        {
          "output_type": "execute_result",
          "data": {
            "text/plain": [
              "             0         1         2         3         4         5         6   \\\n",
              "0     -0.763758  0.800867  0.296169 -0.904085  0.811282 -0.228760 -0.640315   \n",
              "1     -0.880632 -0.894112 -0.059749 -0.339136 -0.262896  0.955107 -0.486856   \n",
              "2      0.263488  0.936274 -0.026880  0.400121  0.373863 -0.756597  0.900822   \n",
              "3      0.518990 -0.908642  0.666437  0.604213  0.037848 -0.426410  0.614315   \n",
              "4      0.430031  0.214658  0.162418 -0.408345 -0.812457  0.721116  0.215031   \n",
              "...         ...       ...       ...       ...       ...       ...       ...   \n",
              "97995  0.267732  0.192739 -0.004307 -0.662059 -0.066981  0.501031  0.775990   \n",
              "97996 -0.565967  0.613684 -0.675450 -0.082703 -0.550441  0.891556  0.838664   \n",
              "97997  0.699768  0.581300  0.462002  0.262395 -0.606863 -0.550053 -0.623537   \n",
              "97998 -0.907651  0.237340  0.300138  0.972094 -0.833129  0.344622  0.424759   \n",
              "97999 -0.988635  0.983079 -0.978239 -0.180935  0.750040  0.855285 -0.925159   \n",
              "\n",
              "             7         8         9         10        11        12  \n",
              "0      0.791152 -0.563079  0.588251  0.763634  0.782866  0.846458  \n",
              "1      0.393822  0.779270  0.000940 -0.504433  0.301896 -0.568183  \n",
              "2      0.048486 -0.733299 -0.218695  0.841592 -0.802236 -0.710710  \n",
              "3     -0.884004  0.706791 -0.811238 -0.460358 -0.212482  0.557902  \n",
              "4     -0.912915  0.709780 -0.508913  0.852304 -0.349123 -0.703910  \n",
              "...         ...       ...       ...       ...       ...       ...  \n",
              "97995  0.458688  0.837805 -0.203148 -0.793705  0.108773  0.582677  \n",
              "97996 -0.432627  0.287963  0.653341  0.039872  0.628547  0.558657  \n",
              "97997  0.866272  0.642989  0.123914  0.893247  0.779148  0.929112  \n",
              "97998  0.376551  0.577306 -0.253313 -0.869324 -0.613099  0.452040  \n",
              "97999  0.782370 -0.680672  0.143046 -0.597505  0.815024 -0.663031  \n",
              "\n",
              "[98000 rows x 13 columns]"
            ],
            "text/html": [
              "\n",
              "  <div id=\"df-51c94d93-3ba0-4203-acef-025438348337\">\n",
              "    <div class=\"colab-df-container\">\n",
              "      <div>\n",
              "<style scoped>\n",
              "    .dataframe tbody tr th:only-of-type {\n",
              "        vertical-align: middle;\n",
              "    }\n",
              "\n",
              "    .dataframe tbody tr th {\n",
              "        vertical-align: top;\n",
              "    }\n",
              "\n",
              "    .dataframe thead th {\n",
              "        text-align: right;\n",
              "    }\n",
              "</style>\n",
              "<table border=\"1\" class=\"dataframe\">\n",
              "  <thead>\n",
              "    <tr style=\"text-align: right;\">\n",
              "      <th></th>\n",
              "      <th>0</th>\n",
              "      <th>1</th>\n",
              "      <th>2</th>\n",
              "      <th>3</th>\n",
              "      <th>4</th>\n",
              "      <th>5</th>\n",
              "      <th>6</th>\n",
              "      <th>7</th>\n",
              "      <th>8</th>\n",
              "      <th>9</th>\n",
              "      <th>10</th>\n",
              "      <th>11</th>\n",
              "      <th>12</th>\n",
              "    </tr>\n",
              "  </thead>\n",
              "  <tbody>\n",
              "    <tr>\n",
              "      <th>0</th>\n",
              "      <td>-0.763758</td>\n",
              "      <td>0.800867</td>\n",
              "      <td>0.296169</td>\n",
              "      <td>-0.904085</td>\n",
              "      <td>0.811282</td>\n",
              "      <td>-0.228760</td>\n",
              "      <td>-0.640315</td>\n",
              "      <td>0.791152</td>\n",
              "      <td>-0.563079</td>\n",
              "      <td>0.588251</td>\n",
              "      <td>0.763634</td>\n",
              "      <td>0.782866</td>\n",
              "      <td>0.846458</td>\n",
              "    </tr>\n",
              "    <tr>\n",
              "      <th>1</th>\n",
              "      <td>-0.880632</td>\n",
              "      <td>-0.894112</td>\n",
              "      <td>-0.059749</td>\n",
              "      <td>-0.339136</td>\n",
              "      <td>-0.262896</td>\n",
              "      <td>0.955107</td>\n",
              "      <td>-0.486856</td>\n",
              "      <td>0.393822</td>\n",
              "      <td>0.779270</td>\n",
              "      <td>0.000940</td>\n",
              "      <td>-0.504433</td>\n",
              "      <td>0.301896</td>\n",
              "      <td>-0.568183</td>\n",
              "    </tr>\n",
              "    <tr>\n",
              "      <th>2</th>\n",
              "      <td>0.263488</td>\n",
              "      <td>0.936274</td>\n",
              "      <td>-0.026880</td>\n",
              "      <td>0.400121</td>\n",
              "      <td>0.373863</td>\n",
              "      <td>-0.756597</td>\n",
              "      <td>0.900822</td>\n",
              "      <td>0.048486</td>\n",
              "      <td>-0.733299</td>\n",
              "      <td>-0.218695</td>\n",
              "      <td>0.841592</td>\n",
              "      <td>-0.802236</td>\n",
              "      <td>-0.710710</td>\n",
              "    </tr>\n",
              "    <tr>\n",
              "      <th>3</th>\n",
              "      <td>0.518990</td>\n",
              "      <td>-0.908642</td>\n",
              "      <td>0.666437</td>\n",
              "      <td>0.604213</td>\n",
              "      <td>0.037848</td>\n",
              "      <td>-0.426410</td>\n",
              "      <td>0.614315</td>\n",
              "      <td>-0.884004</td>\n",
              "      <td>0.706791</td>\n",
              "      <td>-0.811238</td>\n",
              "      <td>-0.460358</td>\n",
              "      <td>-0.212482</td>\n",
              "      <td>0.557902</td>\n",
              "    </tr>\n",
              "    <tr>\n",
              "      <th>4</th>\n",
              "      <td>0.430031</td>\n",
              "      <td>0.214658</td>\n",
              "      <td>0.162418</td>\n",
              "      <td>-0.408345</td>\n",
              "      <td>-0.812457</td>\n",
              "      <td>0.721116</td>\n",
              "      <td>0.215031</td>\n",
              "      <td>-0.912915</td>\n",
              "      <td>0.709780</td>\n",
              "      <td>-0.508913</td>\n",
              "      <td>0.852304</td>\n",
              "      <td>-0.349123</td>\n",
              "      <td>-0.703910</td>\n",
              "    </tr>\n",
              "    <tr>\n",
              "      <th>...</th>\n",
              "      <td>...</td>\n",
              "      <td>...</td>\n",
              "      <td>...</td>\n",
              "      <td>...</td>\n",
              "      <td>...</td>\n",
              "      <td>...</td>\n",
              "      <td>...</td>\n",
              "      <td>...</td>\n",
              "      <td>...</td>\n",
              "      <td>...</td>\n",
              "      <td>...</td>\n",
              "      <td>...</td>\n",
              "      <td>...</td>\n",
              "    </tr>\n",
              "    <tr>\n",
              "      <th>97995</th>\n",
              "      <td>0.267732</td>\n",
              "      <td>0.192739</td>\n",
              "      <td>-0.004307</td>\n",
              "      <td>-0.662059</td>\n",
              "      <td>-0.066981</td>\n",
              "      <td>0.501031</td>\n",
              "      <td>0.775990</td>\n",
              "      <td>0.458688</td>\n",
              "      <td>0.837805</td>\n",
              "      <td>-0.203148</td>\n",
              "      <td>-0.793705</td>\n",
              "      <td>0.108773</td>\n",
              "      <td>0.582677</td>\n",
              "    </tr>\n",
              "    <tr>\n",
              "      <th>97996</th>\n",
              "      <td>-0.565967</td>\n",
              "      <td>0.613684</td>\n",
              "      <td>-0.675450</td>\n",
              "      <td>-0.082703</td>\n",
              "      <td>-0.550441</td>\n",
              "      <td>0.891556</td>\n",
              "      <td>0.838664</td>\n",
              "      <td>-0.432627</td>\n",
              "      <td>0.287963</td>\n",
              "      <td>0.653341</td>\n",
              "      <td>0.039872</td>\n",
              "      <td>0.628547</td>\n",
              "      <td>0.558657</td>\n",
              "    </tr>\n",
              "    <tr>\n",
              "      <th>97997</th>\n",
              "      <td>0.699768</td>\n",
              "      <td>0.581300</td>\n",
              "      <td>0.462002</td>\n",
              "      <td>0.262395</td>\n",
              "      <td>-0.606863</td>\n",
              "      <td>-0.550053</td>\n",
              "      <td>-0.623537</td>\n",
              "      <td>0.866272</td>\n",
              "      <td>0.642989</td>\n",
              "      <td>0.123914</td>\n",
              "      <td>0.893247</td>\n",
              "      <td>0.779148</td>\n",
              "      <td>0.929112</td>\n",
              "    </tr>\n",
              "    <tr>\n",
              "      <th>97998</th>\n",
              "      <td>-0.907651</td>\n",
              "      <td>0.237340</td>\n",
              "      <td>0.300138</td>\n",
              "      <td>0.972094</td>\n",
              "      <td>-0.833129</td>\n",
              "      <td>0.344622</td>\n",
              "      <td>0.424759</td>\n",
              "      <td>0.376551</td>\n",
              "      <td>0.577306</td>\n",
              "      <td>-0.253313</td>\n",
              "      <td>-0.869324</td>\n",
              "      <td>-0.613099</td>\n",
              "      <td>0.452040</td>\n",
              "    </tr>\n",
              "    <tr>\n",
              "      <th>97999</th>\n",
              "      <td>-0.988635</td>\n",
              "      <td>0.983079</td>\n",
              "      <td>-0.978239</td>\n",
              "      <td>-0.180935</td>\n",
              "      <td>0.750040</td>\n",
              "      <td>0.855285</td>\n",
              "      <td>-0.925159</td>\n",
              "      <td>0.782370</td>\n",
              "      <td>-0.680672</td>\n",
              "      <td>0.143046</td>\n",
              "      <td>-0.597505</td>\n",
              "      <td>0.815024</td>\n",
              "      <td>-0.663031</td>\n",
              "    </tr>\n",
              "  </tbody>\n",
              "</table>\n",
              "<p>98000 rows × 13 columns</p>\n",
              "</div>\n",
              "      <button class=\"colab-df-convert\" onclick=\"convertToInteractive('df-51c94d93-3ba0-4203-acef-025438348337')\"\n",
              "              title=\"Convert this dataframe to an interactive table.\"\n",
              "              style=\"display:none;\">\n",
              "        \n",
              "  <svg xmlns=\"http://www.w3.org/2000/svg\" height=\"24px\"viewBox=\"0 0 24 24\"\n",
              "       width=\"24px\">\n",
              "    <path d=\"M0 0h24v24H0V0z\" fill=\"none\"/>\n",
              "    <path d=\"M18.56 5.44l.94 2.06.94-2.06 2.06-.94-2.06-.94-.94-2.06-.94 2.06-2.06.94zm-11 1L8.5 8.5l.94-2.06 2.06-.94-2.06-.94L8.5 2.5l-.94 2.06-2.06.94zm10 10l.94 2.06.94-2.06 2.06-.94-2.06-.94-.94-2.06-.94 2.06-2.06.94z\"/><path d=\"M17.41 7.96l-1.37-1.37c-.4-.4-.92-.59-1.43-.59-.52 0-1.04.2-1.43.59L10.3 9.45l-7.72 7.72c-.78.78-.78 2.05 0 2.83L4 21.41c.39.39.9.59 1.41.59.51 0 1.02-.2 1.41-.59l7.78-7.78 2.81-2.81c.8-.78.8-2.07 0-2.86zM5.41 20L4 18.59l7.72-7.72 1.47 1.35L5.41 20z\"/>\n",
              "  </svg>\n",
              "      </button>\n",
              "      \n",
              "  <style>\n",
              "    .colab-df-container {\n",
              "      display:flex;\n",
              "      flex-wrap:wrap;\n",
              "      gap: 12px;\n",
              "    }\n",
              "\n",
              "    .colab-df-convert {\n",
              "      background-color: #E8F0FE;\n",
              "      border: none;\n",
              "      border-radius: 50%;\n",
              "      cursor: pointer;\n",
              "      display: none;\n",
              "      fill: #1967D2;\n",
              "      height: 32px;\n",
              "      padding: 0 0 0 0;\n",
              "      width: 32px;\n",
              "    }\n",
              "\n",
              "    .colab-df-convert:hover {\n",
              "      background-color: #E2EBFA;\n",
              "      box-shadow: 0px 1px 2px rgba(60, 64, 67, 0.3), 0px 1px 3px 1px rgba(60, 64, 67, 0.15);\n",
              "      fill: #174EA6;\n",
              "    }\n",
              "\n",
              "    [theme=dark] .colab-df-convert {\n",
              "      background-color: #3B4455;\n",
              "      fill: #D2E3FC;\n",
              "    }\n",
              "\n",
              "    [theme=dark] .colab-df-convert:hover {\n",
              "      background-color: #434B5C;\n",
              "      box-shadow: 0px 1px 3px 1px rgba(0, 0, 0, 0.15);\n",
              "      filter: drop-shadow(0px 1px 2px rgba(0, 0, 0, 0.3));\n",
              "      fill: #FFFFFF;\n",
              "    }\n",
              "  </style>\n",
              "\n",
              "      <script>\n",
              "        const buttonEl =\n",
              "          document.querySelector('#df-51c94d93-3ba0-4203-acef-025438348337 button.colab-df-convert');\n",
              "        buttonEl.style.display =\n",
              "          google.colab.kernel.accessAllowed ? 'block' : 'none';\n",
              "\n",
              "        async function convertToInteractive(key) {\n",
              "          const element = document.querySelector('#df-51c94d93-3ba0-4203-acef-025438348337');\n",
              "          const dataTable =\n",
              "            await google.colab.kernel.invokeFunction('convertToInteractive',\n",
              "                                                     [key], {});\n",
              "          if (!dataTable) return;\n",
              "\n",
              "          const docLinkHtml = 'Like what you see? Visit the ' +\n",
              "            '<a target=\"_blank\" href=https://colab.research.google.com/notebooks/data_table.ipynb>data table notebook</a>'\n",
              "            + ' to learn more about interactive tables.';\n",
              "          element.innerHTML = '';\n",
              "          dataTable['output_type'] = 'display_data';\n",
              "          await google.colab.output.renderOutput(dataTable, element);\n",
              "          const docLink = document.createElement('div');\n",
              "          docLink.innerHTML = docLinkHtml;\n",
              "          element.appendChild(docLink);\n",
              "        }\n",
              "      </script>\n",
              "    </div>\n",
              "  </div>\n",
              "  "
            ]
          },
          "metadata": {},
          "execution_count": 45
        }
      ],
      "source": [
        "model.eval()\n",
        "autodecoded_df = pd.DataFrame(model(torch.tensor(robust_scaled_df).float())[0].detach().numpy())\n",
        "autodecoded_df"
      ]
    },
    {
      "cell_type": "code",
      "execution_count": 46,
      "metadata": {
        "colab": {
          "base_uri": "https://localhost:8080/",
          "height": 201
        },
        "id": "ZXjAOFa5VwC2",
        "outputId": "bdf99d14-296e-42be-d097-8b11dc479961"
      },
      "outputs": [
        {
          "output_type": "execute_result",
          "data": {
            "text/plain": [
              "          0         1         2         3         4         5         6  \\\n",
              "0  0.156444  0.004721  0.021652 -0.202581  0.040298  0.096756  0.160773   \n",
              "1  0.065496 -0.132608  0.025635  0.218670  0.058852  0.076386  0.041924   \n",
              "2  0.165144  0.173493 -0.014271 -0.066276 -0.140859  0.034474 -0.096138   \n",
              "3 -0.009346  0.279100  0.092452  0.060376 -0.078909 -0.062135  0.044912   \n",
              "4  0.032105  0.018386  0.023207  0.230365 -0.053223  0.089265 -0.090262   \n",
              "\n",
              "          7         8  \n",
              "0  0.230759 -0.181267  \n",
              "1 -0.036057  0.079234  \n",
              "2  0.301088  0.033748  \n",
              "3 -0.052107  0.239506  \n",
              "4  0.290401  0.016091  "
            ],
            "text/html": [
              "\n",
              "  <div id=\"df-59898676-1d0b-40b2-8582-c1edb533b731\">\n",
              "    <div class=\"colab-df-container\">\n",
              "      <div>\n",
              "<style scoped>\n",
              "    .dataframe tbody tr th:only-of-type {\n",
              "        vertical-align: middle;\n",
              "    }\n",
              "\n",
              "    .dataframe tbody tr th {\n",
              "        vertical-align: top;\n",
              "    }\n",
              "\n",
              "    .dataframe thead th {\n",
              "        text-align: right;\n",
              "    }\n",
              "</style>\n",
              "<table border=\"1\" class=\"dataframe\">\n",
              "  <thead>\n",
              "    <tr style=\"text-align: right;\">\n",
              "      <th></th>\n",
              "      <th>0</th>\n",
              "      <th>1</th>\n",
              "      <th>2</th>\n",
              "      <th>3</th>\n",
              "      <th>4</th>\n",
              "      <th>5</th>\n",
              "      <th>6</th>\n",
              "      <th>7</th>\n",
              "      <th>8</th>\n",
              "    </tr>\n",
              "  </thead>\n",
              "  <tbody>\n",
              "    <tr>\n",
              "      <th>0</th>\n",
              "      <td>0.156444</td>\n",
              "      <td>0.004721</td>\n",
              "      <td>0.021652</td>\n",
              "      <td>-0.202581</td>\n",
              "      <td>0.040298</td>\n",
              "      <td>0.096756</td>\n",
              "      <td>0.160773</td>\n",
              "      <td>0.230759</td>\n",
              "      <td>-0.181267</td>\n",
              "    </tr>\n",
              "    <tr>\n",
              "      <th>1</th>\n",
              "      <td>0.065496</td>\n",
              "      <td>-0.132608</td>\n",
              "      <td>0.025635</td>\n",
              "      <td>0.218670</td>\n",
              "      <td>0.058852</td>\n",
              "      <td>0.076386</td>\n",
              "      <td>0.041924</td>\n",
              "      <td>-0.036057</td>\n",
              "      <td>0.079234</td>\n",
              "    </tr>\n",
              "    <tr>\n",
              "      <th>2</th>\n",
              "      <td>0.165144</td>\n",
              "      <td>0.173493</td>\n",
              "      <td>-0.014271</td>\n",
              "      <td>-0.066276</td>\n",
              "      <td>-0.140859</td>\n",
              "      <td>0.034474</td>\n",
              "      <td>-0.096138</td>\n",
              "      <td>0.301088</td>\n",
              "      <td>0.033748</td>\n",
              "    </tr>\n",
              "    <tr>\n",
              "      <th>3</th>\n",
              "      <td>-0.009346</td>\n",
              "      <td>0.279100</td>\n",
              "      <td>0.092452</td>\n",
              "      <td>0.060376</td>\n",
              "      <td>-0.078909</td>\n",
              "      <td>-0.062135</td>\n",
              "      <td>0.044912</td>\n",
              "      <td>-0.052107</td>\n",
              "      <td>0.239506</td>\n",
              "    </tr>\n",
              "    <tr>\n",
              "      <th>4</th>\n",
              "      <td>0.032105</td>\n",
              "      <td>0.018386</td>\n",
              "      <td>0.023207</td>\n",
              "      <td>0.230365</td>\n",
              "      <td>-0.053223</td>\n",
              "      <td>0.089265</td>\n",
              "      <td>-0.090262</td>\n",
              "      <td>0.290401</td>\n",
              "      <td>0.016091</td>\n",
              "    </tr>\n",
              "  </tbody>\n",
              "</table>\n",
              "</div>\n",
              "      <button class=\"colab-df-convert\" onclick=\"convertToInteractive('df-59898676-1d0b-40b2-8582-c1edb533b731')\"\n",
              "              title=\"Convert this dataframe to an interactive table.\"\n",
              "              style=\"display:none;\">\n",
              "        \n",
              "  <svg xmlns=\"http://www.w3.org/2000/svg\" height=\"24px\"viewBox=\"0 0 24 24\"\n",
              "       width=\"24px\">\n",
              "    <path d=\"M0 0h24v24H0V0z\" fill=\"none\"/>\n",
              "    <path d=\"M18.56 5.44l.94 2.06.94-2.06 2.06-.94-2.06-.94-.94-2.06-.94 2.06-2.06.94zm-11 1L8.5 8.5l.94-2.06 2.06-.94-2.06-.94L8.5 2.5l-.94 2.06-2.06.94zm10 10l.94 2.06.94-2.06 2.06-.94-2.06-.94-.94-2.06-.94 2.06-2.06.94z\"/><path d=\"M17.41 7.96l-1.37-1.37c-.4-.4-.92-.59-1.43-.59-.52 0-1.04.2-1.43.59L10.3 9.45l-7.72 7.72c-.78.78-.78 2.05 0 2.83L4 21.41c.39.39.9.59 1.41.59.51 0 1.02-.2 1.41-.59l7.78-7.78 2.81-2.81c.8-.78.8-2.07 0-2.86zM5.41 20L4 18.59l7.72-7.72 1.47 1.35L5.41 20z\"/>\n",
              "  </svg>\n",
              "      </button>\n",
              "      \n",
              "  <style>\n",
              "    .colab-df-container {\n",
              "      display:flex;\n",
              "      flex-wrap:wrap;\n",
              "      gap: 12px;\n",
              "    }\n",
              "\n",
              "    .colab-df-convert {\n",
              "      background-color: #E8F0FE;\n",
              "      border: none;\n",
              "      border-radius: 50%;\n",
              "      cursor: pointer;\n",
              "      display: none;\n",
              "      fill: #1967D2;\n",
              "      height: 32px;\n",
              "      padding: 0 0 0 0;\n",
              "      width: 32px;\n",
              "    }\n",
              "\n",
              "    .colab-df-convert:hover {\n",
              "      background-color: #E2EBFA;\n",
              "      box-shadow: 0px 1px 2px rgba(60, 64, 67, 0.3), 0px 1px 3px 1px rgba(60, 64, 67, 0.15);\n",
              "      fill: #174EA6;\n",
              "    }\n",
              "\n",
              "    [theme=dark] .colab-df-convert {\n",
              "      background-color: #3B4455;\n",
              "      fill: #D2E3FC;\n",
              "    }\n",
              "\n",
              "    [theme=dark] .colab-df-convert:hover {\n",
              "      background-color: #434B5C;\n",
              "      box-shadow: 0px 1px 3px 1px rgba(0, 0, 0, 0.15);\n",
              "      filter: drop-shadow(0px 1px 2px rgba(0, 0, 0, 0.3));\n",
              "      fill: #FFFFFF;\n",
              "    }\n",
              "  </style>\n",
              "\n",
              "      <script>\n",
              "        const buttonEl =\n",
              "          document.querySelector('#df-59898676-1d0b-40b2-8582-c1edb533b731 button.colab-df-convert');\n",
              "        buttonEl.style.display =\n",
              "          google.colab.kernel.accessAllowed ? 'block' : 'none';\n",
              "\n",
              "        async function convertToInteractive(key) {\n",
              "          const element = document.querySelector('#df-59898676-1d0b-40b2-8582-c1edb533b731');\n",
              "          const dataTable =\n",
              "            await google.colab.kernel.invokeFunction('convertToInteractive',\n",
              "                                                     [key], {});\n",
              "          if (!dataTable) return;\n",
              "\n",
              "          const docLinkHtml = 'Like what you see? Visit the ' +\n",
              "            '<a target=\"_blank\" href=https://colab.research.google.com/notebooks/data_table.ipynb>data table notebook</a>'\n",
              "            + ' to learn more about interactive tables.';\n",
              "          element.innerHTML = '';\n",
              "          dataTable['output_type'] = 'display_data';\n",
              "          await google.colab.output.renderOutput(dataTable, element);\n",
              "          const docLink = document.createElement('div');\n",
              "          docLink.innerHTML = docLinkHtml;\n",
              "          element.appendChild(docLink);\n",
              "        }\n",
              "      </script>\n",
              "    </div>\n",
              "  </div>\n",
              "  "
            ]
          },
          "metadata": {},
          "execution_count": 46
        }
      ],
      "source": [
        "autoencoded_df.head()"
      ]
    },
    {
      "cell_type": "code",
      "execution_count": 47,
      "metadata": {
        "colab": {
          "base_uri": "https://localhost:8080/",
          "height": 411
        },
        "id": "kZ4lCS9RZDS0",
        "outputId": "f4096695-9698-47a4-b545-a35ea13c393a"
      },
      "outputs": [
        {
          "output_type": "execute_result",
          "data": {
            "text/plain": [
              "             0         1         2         3         4         5         6   \\\n",
              "0     -0.737778  1.196363  0.796321 -0.374224  0.760158  0.000000 -0.533995   \n",
              "1     -0.737778 -0.690429 -0.150511 -0.585445 -0.344727  1.320419 -0.403690   \n",
              "2      0.000000  0.890868 -0.316863  0.169131  0.162052 -0.616436  1.667545   \n",
              "3      0.195443 -0.972867  0.701337  0.169131  0.162052  0.000000  0.554695   \n",
              "4      0.542560  0.197468 -0.316863 -0.819508 -1.429020  0.988990  0.174061   \n",
              "...         ...       ...       ...       ...       ...       ...       ...   \n",
              "97995  0.000000  0.197468  0.137905 -0.374224 -0.168550  0.000000  0.722029   \n",
              "97996 -0.457440  0.560488 -0.975988 -0.374224 -0.937791  0.744060  0.877904   \n",
              "97997  0.542560  0.560488  0.384485  0.000000 -0.530053 -0.387489 -0.751828   \n",
              "97998 -1.079470  0.383700  0.496147  0.625776 -0.937791  0.473714  0.211764   \n",
              "97999 -1.544105  0.890868 -0.719101  0.169131  1.169384  0.988990 -1.253530   \n",
              "\n",
              "             7         8         9         10        11        12  \n",
              "0      0.692779 -0.497543  0.575597  0.755581  0.812378  0.524370  \n",
              "1      0.345115  0.747007 -0.083590 -0.430681  0.285181 -1.222626  \n",
              "2      0.066430 -1.108999 -0.419032  0.770148 -0.724659 -1.717086  \n",
              "3     -0.924983  0.597828 -0.868985 -0.308455 -0.079607  0.248890  \n",
              "4     -1.125990  0.613478 -0.452706  0.915761 -0.293659 -0.865419  \n",
              "...         ...       ...       ...       ...       ...       ...  \n",
              "97995  0.310197  0.930621 -0.052003 -0.775354  0.128845  0.348442  \n",
              "97996 -0.325700  0.193928  0.586983  0.113099  0.539225  0.483523  \n",
              "97997  1.101885  0.627383  0.138524  1.209984  0.918630  0.442446  \n",
              "97998  0.389857  0.496664 -0.208892 -0.850420 -0.421917  0.100798  \n",
              "97999  0.851161 -0.878469  0.107899 -0.496278  0.778646 -0.218494  \n",
              "\n",
              "[98000 rows x 13 columns]"
            ],
            "text/html": [
              "\n",
              "  <div id=\"df-e6250af8-6c28-4705-9cc2-e1579c6105be\">\n",
              "    <div class=\"colab-df-container\">\n",
              "      <div>\n",
              "<style scoped>\n",
              "    .dataframe tbody tr th:only-of-type {\n",
              "        vertical-align: middle;\n",
              "    }\n",
              "\n",
              "    .dataframe tbody tr th {\n",
              "        vertical-align: top;\n",
              "    }\n",
              "\n",
              "    .dataframe thead th {\n",
              "        text-align: right;\n",
              "    }\n",
              "</style>\n",
              "<table border=\"1\" class=\"dataframe\">\n",
              "  <thead>\n",
              "    <tr style=\"text-align: right;\">\n",
              "      <th></th>\n",
              "      <th>0</th>\n",
              "      <th>1</th>\n",
              "      <th>2</th>\n",
              "      <th>3</th>\n",
              "      <th>4</th>\n",
              "      <th>5</th>\n",
              "      <th>6</th>\n",
              "      <th>7</th>\n",
              "      <th>8</th>\n",
              "      <th>9</th>\n",
              "      <th>10</th>\n",
              "      <th>11</th>\n",
              "      <th>12</th>\n",
              "    </tr>\n",
              "  </thead>\n",
              "  <tbody>\n",
              "    <tr>\n",
              "      <th>0</th>\n",
              "      <td>-0.737778</td>\n",
              "      <td>1.196363</td>\n",
              "      <td>0.796321</td>\n",
              "      <td>-0.374224</td>\n",
              "      <td>0.760158</td>\n",
              "      <td>0.000000</td>\n",
              "      <td>-0.533995</td>\n",
              "      <td>0.692779</td>\n",
              "      <td>-0.497543</td>\n",
              "      <td>0.575597</td>\n",
              "      <td>0.755581</td>\n",
              "      <td>0.812378</td>\n",
              "      <td>0.524370</td>\n",
              "    </tr>\n",
              "    <tr>\n",
              "      <th>1</th>\n",
              "      <td>-0.737778</td>\n",
              "      <td>-0.690429</td>\n",
              "      <td>-0.150511</td>\n",
              "      <td>-0.585445</td>\n",
              "      <td>-0.344727</td>\n",
              "      <td>1.320419</td>\n",
              "      <td>-0.403690</td>\n",
              "      <td>0.345115</td>\n",
              "      <td>0.747007</td>\n",
              "      <td>-0.083590</td>\n",
              "      <td>-0.430681</td>\n",
              "      <td>0.285181</td>\n",
              "      <td>-1.222626</td>\n",
              "    </tr>\n",
              "    <tr>\n",
              "      <th>2</th>\n",
              "      <td>0.000000</td>\n",
              "      <td>0.890868</td>\n",
              "      <td>-0.316863</td>\n",
              "      <td>0.169131</td>\n",
              "      <td>0.162052</td>\n",
              "      <td>-0.616436</td>\n",
              "      <td>1.667545</td>\n",
              "      <td>0.066430</td>\n",
              "      <td>-1.108999</td>\n",
              "      <td>-0.419032</td>\n",
              "      <td>0.770148</td>\n",
              "      <td>-0.724659</td>\n",
              "      <td>-1.717086</td>\n",
              "    </tr>\n",
              "    <tr>\n",
              "      <th>3</th>\n",
              "      <td>0.195443</td>\n",
              "      <td>-0.972867</td>\n",
              "      <td>0.701337</td>\n",
              "      <td>0.169131</td>\n",
              "      <td>0.162052</td>\n",
              "      <td>0.000000</td>\n",
              "      <td>0.554695</td>\n",
              "      <td>-0.924983</td>\n",
              "      <td>0.597828</td>\n",
              "      <td>-0.868985</td>\n",
              "      <td>-0.308455</td>\n",
              "      <td>-0.079607</td>\n",
              "      <td>0.248890</td>\n",
              "    </tr>\n",
              "    <tr>\n",
              "      <th>4</th>\n",
              "      <td>0.542560</td>\n",
              "      <td>0.197468</td>\n",
              "      <td>-0.316863</td>\n",
              "      <td>-0.819508</td>\n",
              "      <td>-1.429020</td>\n",
              "      <td>0.988990</td>\n",
              "      <td>0.174061</td>\n",
              "      <td>-1.125990</td>\n",
              "      <td>0.613478</td>\n",
              "      <td>-0.452706</td>\n",
              "      <td>0.915761</td>\n",
              "      <td>-0.293659</td>\n",
              "      <td>-0.865419</td>\n",
              "    </tr>\n",
              "    <tr>\n",
              "      <th>...</th>\n",
              "      <td>...</td>\n",
              "      <td>...</td>\n",
              "      <td>...</td>\n",
              "      <td>...</td>\n",
              "      <td>...</td>\n",
              "      <td>...</td>\n",
              "      <td>...</td>\n",
              "      <td>...</td>\n",
              "      <td>...</td>\n",
              "      <td>...</td>\n",
              "      <td>...</td>\n",
              "      <td>...</td>\n",
              "      <td>...</td>\n",
              "    </tr>\n",
              "    <tr>\n",
              "      <th>97995</th>\n",
              "      <td>0.000000</td>\n",
              "      <td>0.197468</td>\n",
              "      <td>0.137905</td>\n",
              "      <td>-0.374224</td>\n",
              "      <td>-0.168550</td>\n",
              "      <td>0.000000</td>\n",
              "      <td>0.722029</td>\n",
              "      <td>0.310197</td>\n",
              "      <td>0.930621</td>\n",
              "      <td>-0.052003</td>\n",
              "      <td>-0.775354</td>\n",
              "      <td>0.128845</td>\n",
              "      <td>0.348442</td>\n",
              "    </tr>\n",
              "    <tr>\n",
              "      <th>97996</th>\n",
              "      <td>-0.457440</td>\n",
              "      <td>0.560488</td>\n",
              "      <td>-0.975988</td>\n",
              "      <td>-0.374224</td>\n",
              "      <td>-0.937791</td>\n",
              "      <td>0.744060</td>\n",
              "      <td>0.877904</td>\n",
              "      <td>-0.325700</td>\n",
              "      <td>0.193928</td>\n",
              "      <td>0.586983</td>\n",
              "      <td>0.113099</td>\n",
              "      <td>0.539225</td>\n",
              "      <td>0.483523</td>\n",
              "    </tr>\n",
              "    <tr>\n",
              "      <th>97997</th>\n",
              "      <td>0.542560</td>\n",
              "      <td>0.560488</td>\n",
              "      <td>0.384485</td>\n",
              "      <td>0.000000</td>\n",
              "      <td>-0.530053</td>\n",
              "      <td>-0.387489</td>\n",
              "      <td>-0.751828</td>\n",
              "      <td>1.101885</td>\n",
              "      <td>0.627383</td>\n",
              "      <td>0.138524</td>\n",
              "      <td>1.209984</td>\n",
              "      <td>0.918630</td>\n",
              "      <td>0.442446</td>\n",
              "    </tr>\n",
              "    <tr>\n",
              "      <th>97998</th>\n",
              "      <td>-1.079470</td>\n",
              "      <td>0.383700</td>\n",
              "      <td>0.496147</td>\n",
              "      <td>0.625776</td>\n",
              "      <td>-0.937791</td>\n",
              "      <td>0.473714</td>\n",
              "      <td>0.211764</td>\n",
              "      <td>0.389857</td>\n",
              "      <td>0.496664</td>\n",
              "      <td>-0.208892</td>\n",
              "      <td>-0.850420</td>\n",
              "      <td>-0.421917</td>\n",
              "      <td>0.100798</td>\n",
              "    </tr>\n",
              "    <tr>\n",
              "      <th>97999</th>\n",
              "      <td>-1.544105</td>\n",
              "      <td>0.890868</td>\n",
              "      <td>-0.719101</td>\n",
              "      <td>0.169131</td>\n",
              "      <td>1.169384</td>\n",
              "      <td>0.988990</td>\n",
              "      <td>-1.253530</td>\n",
              "      <td>0.851161</td>\n",
              "      <td>-0.878469</td>\n",
              "      <td>0.107899</td>\n",
              "      <td>-0.496278</td>\n",
              "      <td>0.778646</td>\n",
              "      <td>-0.218494</td>\n",
              "    </tr>\n",
              "  </tbody>\n",
              "</table>\n",
              "<p>98000 rows × 13 columns</p>\n",
              "</div>\n",
              "      <button class=\"colab-df-convert\" onclick=\"convertToInteractive('df-e6250af8-6c28-4705-9cc2-e1579c6105be')\"\n",
              "              title=\"Convert this dataframe to an interactive table.\"\n",
              "              style=\"display:none;\">\n",
              "        \n",
              "  <svg xmlns=\"http://www.w3.org/2000/svg\" height=\"24px\"viewBox=\"0 0 24 24\"\n",
              "       width=\"24px\">\n",
              "    <path d=\"M0 0h24v24H0V0z\" fill=\"none\"/>\n",
              "    <path d=\"M18.56 5.44l.94 2.06.94-2.06 2.06-.94-2.06-.94-.94-2.06-.94 2.06-2.06.94zm-11 1L8.5 8.5l.94-2.06 2.06-.94-2.06-.94L8.5 2.5l-.94 2.06-2.06.94zm10 10l.94 2.06.94-2.06 2.06-.94-2.06-.94-.94-2.06-.94 2.06-2.06.94z\"/><path d=\"M17.41 7.96l-1.37-1.37c-.4-.4-.92-.59-1.43-.59-.52 0-1.04.2-1.43.59L10.3 9.45l-7.72 7.72c-.78.78-.78 2.05 0 2.83L4 21.41c.39.39.9.59 1.41.59.51 0 1.02-.2 1.41-.59l7.78-7.78 2.81-2.81c.8-.78.8-2.07 0-2.86zM5.41 20L4 18.59l7.72-7.72 1.47 1.35L5.41 20z\"/>\n",
              "  </svg>\n",
              "      </button>\n",
              "      \n",
              "  <style>\n",
              "    .colab-df-container {\n",
              "      display:flex;\n",
              "      flex-wrap:wrap;\n",
              "      gap: 12px;\n",
              "    }\n",
              "\n",
              "    .colab-df-convert {\n",
              "      background-color: #E8F0FE;\n",
              "      border: none;\n",
              "      border-radius: 50%;\n",
              "      cursor: pointer;\n",
              "      display: none;\n",
              "      fill: #1967D2;\n",
              "      height: 32px;\n",
              "      padding: 0 0 0 0;\n",
              "      width: 32px;\n",
              "    }\n",
              "\n",
              "    .colab-df-convert:hover {\n",
              "      background-color: #E2EBFA;\n",
              "      box-shadow: 0px 1px 2px rgba(60, 64, 67, 0.3), 0px 1px 3px 1px rgba(60, 64, 67, 0.15);\n",
              "      fill: #174EA6;\n",
              "    }\n",
              "\n",
              "    [theme=dark] .colab-df-convert {\n",
              "      background-color: #3B4455;\n",
              "      fill: #D2E3FC;\n",
              "    }\n",
              "\n",
              "    [theme=dark] .colab-df-convert:hover {\n",
              "      background-color: #434B5C;\n",
              "      box-shadow: 0px 1px 3px 1px rgba(0, 0, 0, 0.15);\n",
              "      filter: drop-shadow(0px 1px 2px rgba(0, 0, 0, 0.3));\n",
              "      fill: #FFFFFF;\n",
              "    }\n",
              "  </style>\n",
              "\n",
              "      <script>\n",
              "        const buttonEl =\n",
              "          document.querySelector('#df-e6250af8-6c28-4705-9cc2-e1579c6105be button.colab-df-convert');\n",
              "        buttonEl.style.display =\n",
              "          google.colab.kernel.accessAllowed ? 'block' : 'none';\n",
              "\n",
              "        async function convertToInteractive(key) {\n",
              "          const element = document.querySelector('#df-e6250af8-6c28-4705-9cc2-e1579c6105be');\n",
              "          const dataTable =\n",
              "            await google.colab.kernel.invokeFunction('convertToInteractive',\n",
              "                                                     [key], {});\n",
              "          if (!dataTable) return;\n",
              "\n",
              "          const docLinkHtml = 'Like what you see? Visit the ' +\n",
              "            '<a target=\"_blank\" href=https://colab.research.google.com/notebooks/data_table.ipynb>data table notebook</a>'\n",
              "            + ' to learn more about interactive tables.';\n",
              "          element.innerHTML = '';\n",
              "          dataTable['output_type'] = 'display_data';\n",
              "          await google.colab.output.renderOutput(dataTable, element);\n",
              "          const docLink = document.createElement('div');\n",
              "          docLink.innerHTML = docLinkHtml;\n",
              "          element.appendChild(docLink);\n",
              "        }\n",
              "      </script>\n",
              "    </div>\n",
              "  </div>\n",
              "  "
            ]
          },
          "metadata": {},
          "execution_count": 47
        }
      ],
      "source": [
        "pd.DataFrame(robust_scaled_df)"
      ]
    },
    {
      "cell_type": "code",
      "source": [
        "bay_gmm = BayesianGaussianMixture(n_components=6, n_init=20, max_iter = 400)\n",
        "\n",
        "bay_gmm.fit(autodecoded_df)\n",
        "\n",
        "bay_gmm_weights = bay_gmm.weights_\n",
        "print(np.round(bay_gmm_weights, 2))\n",
        "\n",
        "bay_res = bay_gmm.predict(autodecoded_df) "
      ],
      "metadata": {
        "id": "kqpRkFACk3Oz",
        "colab": {
          "base_uri": "https://localhost:8080/"
        },
        "outputId": "2000d643-c425-4ed3-cbd2-fda6fe5d8624"
      },
      "execution_count": 50,
      "outputs": [
        {
          "output_type": "stream",
          "name": "stdout",
          "text": [
            "[0.23 0.21 0.17 0.09 0.13 0.16]\n"
          ]
        }
      ]
    },
    {
      "cell_type": "code",
      "source": [
        "output = pd.DataFrame()\n",
        "output['Id'] = data.id\n",
        "output['Predicted'] = bay_res\n",
        "output.to_csv('/content/drive/MyDrive/jul22_bgmm6_allvars_ROBscaledTHANtransed_AUTOENCODEDv2.csv', index = False) "
      ],
      "metadata": {
        "id": "Qv3ECyOZBYpG"
      },
      "execution_count": 54,
      "outputs": []
    },
    {
      "cell_type": "markdown",
      "source": [
        "The scrore has significantly dropped. So, this is definately not the dataset for dimension reduction."
      ],
      "metadata": {
        "id": "l5mLihoZOzGL"
      }
    },
    {
      "cell_type": "markdown",
      "source": [
        "So, the best clustering algorithm for this dataset is BGMM"
      ],
      "metadata": {
        "id": "RuC6Zt4DPYhg"
      }
    }
  ],
  "metadata": {
    "colab": {
      "name": "Clusterizing.ipynb",
      "provenance": [],
      "collapsed_sections": []
    },
    "kernelspec": {
      "display_name": "Python 3",
      "language": "python",
      "name": "python3"
    },
    "language_info": {
      "codemirror_mode": {
        "name": "ipython",
        "version": 3
      },
      "file_extension": ".py",
      "mimetype": "text/x-python",
      "name": "python",
      "nbconvert_exporter": "python",
      "pygments_lexer": "ipython3",
      "version": "3.8.8"
    }
  },
  "nbformat": 4,
  "nbformat_minor": 0
}