{
  "nbformat": 4,
  "nbformat_minor": 0,
  "metadata": {
    "colab": {
      "name": "test1.ipynb",
      "provenance": []
    },
    "kernelspec": {
      "name": "python3",
      "display_name": "Python 3"
    },
    "language_info": {
      "name": "python"
    }
  },
  "cells": [
    {
      "cell_type": "markdown",
      "metadata": {
        "id": "oPhW74noWFcd"
      },
      "source": [
        "# Парсинг"
      ]
    },
    {
      "cell_type": "code",
      "metadata": {
        "id": "4pKqANEOYSgf"
      },
      "source": [
        "import pandas as pd\n",
        "from bs4 import BeautifulSoup\n",
        "import requests"
      ],
      "execution_count": 6,
      "outputs": []
    },
    {
      "cell_type": "code",
      "metadata": {
        "colab": {
          "base_uri": "https://localhost:8080/",
          "height": 484
        },
        "id": "MTi_NevvYGXV",
        "outputId": "652a8a74-3803-4ebe-8266-b0f0e0833e43"
      },
      "source": [
        "# \"Захватываем\" страницу \n",
        "url_profile = 'https://www.actuaries.org.ru/ru/about/participants/0140/'\n",
        "page_profile = requests.get(url_profile)\n",
        "\n",
        "# делаем из страницы \"суп\"  html\n",
        "soup_profile = BeautifulSoup(page_profile.text, \"html.parser\")\n",
        "\n",
        "#находим имя и таблицу\n",
        "name = soup_profile.find('span', class_='label label-primary').text\n",
        "info = soup_profile.find('table', class_='table table-hover')\n",
        "table1 = pd.read_html(url_profile)\n",
        "\n",
        "#нужны строки: 0, 12, 14, 16, 18\n",
        "column1=[]\n",
        "column2=[]\n",
        "column3=[]\n",
        "\n",
        "# заводим шаблон таблицы\n",
        "df=pd.DataFrame(list(zip(column1,column2,column3)), columns=['Имя', 'Деталь', 'Содержание'])\n",
        "\n",
        "# далее циклом расствляем нужные значения ячеек соответствующие списки-колонки\n",
        "for i in (0, 12, 14, 16, 18):\n",
        "    column1.append(name)\n",
        "    column2.append(table1[0].iloc[i][0])\n",
        "    column3.append(table1[0].iloc[i][1])\n",
        "\n",
        "#далее нам нужна другая страница\n",
        "podrobnee='https://www.actuaries.org.ru'+str(soup_profile.find('table').find('a').get('href'))\n",
        "\n",
        "#.get('href') выводит сслыку, спрятанную в супе. Например, выше она выводит ссылку из <a href=\"/ru/participator_detail/?code=2\" class=\"btn btn-success\">Подробнее</a>\n",
        "\n",
        "table2 = pd.read_html(podrobnee)\n",
        "column1.append(name)\n",
        "column2.append(table2[0].iloc[4][0])\n",
        "column3.append(table2[0].iloc[4][1])   \n",
        "\n",
        "\n",
        "\n",
        "#добавляем в шаблон выбранную информацию\n",
        "df=df.append(pd.DataFrame(list(zip(column1,column2,column3)), columns=['Имя', 'Деталь', 'Содержание']))\n",
        "display(df)"
      ],
      "execution_count": 63,
      "outputs": [
        {
          "output_type": "display_data",
          "data": {
            "text/html": [
              "<div>\n",
              "<style scoped>\n",
              "    .dataframe tbody tr th:only-of-type {\n",
              "        vertical-align: middle;\n",
              "    }\n",
              "\n",
              "    .dataframe tbody tr th {\n",
              "        vertical-align: top;\n",
              "    }\n",
              "\n",
              "    .dataframe thead th {\n",
              "        text-align: right;\n",
              "    }\n",
              "</style>\n",
              "<table border=\"1\" class=\"dataframe\">\n",
              "  <thead>\n",
              "    <tr style=\"text-align: right;\">\n",
              "      <th></th>\n",
              "      <th>Имя</th>\n",
              "      <th>Деталь</th>\n",
              "      <th>Содержание</th>\n",
              "    </tr>\n",
              "  </thead>\n",
              "  <tbody>\n",
              "    <tr>\n",
              "      <th>0</th>\n",
              "      <td>Рагулин Алексей Дмитриевич</td>\n",
              "      <td>Место работы</td>\n",
              "      <td>Банк России</td>\n",
              "    </tr>\n",
              "    <tr>\n",
              "      <th>1</th>\n",
              "      <td>Рагулин Алексей Дмитриевич</td>\n",
              "      <td>Почтовый адрес \"АПА\"</td>\n",
              "      <td>a.ragulin@actuaries.org.ru</td>\n",
              "    </tr>\n",
              "    <tr>\n",
              "      <th>2</th>\n",
              "      <td>Рагулин Алексей Дмитриевич</td>\n",
              "      <td>Трудовой стаж актуария</td>\n",
              "      <td>с 2017 года</td>\n",
              "    </tr>\n",
              "    <tr>\n",
              "      <th>3</th>\n",
              "      <td>Рагулин Алексей Дмитриевич</td>\n",
              "      <td>Регистрационный номер</td>\n",
              "      <td>0140</td>\n",
              "    </tr>\n",
              "    <tr>\n",
              "      <th>4</th>\n",
              "      <td>Рагулин Алексей Дмитриевич</td>\n",
              "      <td>Ответственный актуарий?</td>\n",
              "      <td>нет</td>\n",
              "    </tr>\n",
              "    <tr>\n",
              "      <th>5</th>\n",
              "      <td>Рагулин Алексей Дмитриевич</td>\n",
              "      <td>Контактный телефон</td>\n",
              "      <td>+7 (916) 720-00-36</td>\n",
              "    </tr>\n",
              "  </tbody>\n",
              "</table>\n",
              "</div>"
            ],
            "text/plain": [
              "                          Имя  ...                  Содержание\n",
              "0  Рагулин Алексей Дмитриевич  ...                 Банк России\n",
              "1  Рагулин Алексей Дмитриевич  ...  a.ragulin@actuaries.org.ru\n",
              "2  Рагулин Алексей Дмитриевич  ...                 с 2017 года\n",
              "3  Рагулин Алексей Дмитриевич  ...                        0140\n",
              "4  Рагулин Алексей Дмитриевич  ...                         нет\n",
              "5  Рагулин Алексей Дмитриевич  ...          +7 (916) 720-00-36\n",
              "\n",
              "[6 rows x 3 columns]"
            ]
          },
          "metadata": {}
        },
        {
          "output_type": "display_data",
          "data": {
            "text/html": [
              "<div>\n",
              "<style scoped>\n",
              "    .dataframe tbody tr th:only-of-type {\n",
              "        vertical-align: middle;\n",
              "    }\n",
              "\n",
              "    .dataframe tbody tr th {\n",
              "        vertical-align: top;\n",
              "    }\n",
              "\n",
              "    .dataframe thead th {\n",
              "        text-align: right;\n",
              "    }\n",
              "</style>\n",
              "<table border=\"1\" class=\"dataframe\">\n",
              "  <thead>\n",
              "    <tr style=\"text-align: right;\">\n",
              "      <th></th>\n",
              "      <th>Имя</th>\n",
              "      <th>Деталь</th>\n",
              "      <th>Содержание</th>\n",
              "    </tr>\n",
              "  </thead>\n",
              "  <tbody>\n",
              "    <tr>\n",
              "      <th>0</th>\n",
              "      <td>Рагулин Алексей Дмитриевич</td>\n",
              "      <td>Место работы</td>\n",
              "      <td>Банк России</td>\n",
              "    </tr>\n",
              "    <tr>\n",
              "      <th>1</th>\n",
              "      <td>Рагулин Алексей Дмитриевич</td>\n",
              "      <td>Почтовый адрес \"АПА\"</td>\n",
              "      <td>a.ragulin@actuaries.org.ru</td>\n",
              "    </tr>\n",
              "    <tr>\n",
              "      <th>2</th>\n",
              "      <td>Рагулин Алексей Дмитриевич</td>\n",
              "      <td>Трудовой стаж актуария</td>\n",
              "      <td>с 2017 года</td>\n",
              "    </tr>\n",
              "    <tr>\n",
              "      <th>3</th>\n",
              "      <td>Рагулин Алексей Дмитриевич</td>\n",
              "      <td>Регистрационный номер</td>\n",
              "      <td>0140</td>\n",
              "    </tr>\n",
              "    <tr>\n",
              "      <th>4</th>\n",
              "      <td>Рагулин Алексей Дмитриевич</td>\n",
              "      <td>Ответственный актуарий?</td>\n",
              "      <td>нет</td>\n",
              "    </tr>\n",
              "    <tr>\n",
              "      <th>5</th>\n",
              "      <td>Рагулин Алексей Дмитриевич</td>\n",
              "      <td>Контактный телефон</td>\n",
              "      <td>+7 (916) 720-00-36</td>\n",
              "    </tr>\n",
              "    <tr>\n",
              "      <th>0</th>\n",
              "      <td>1</td>\n",
              "      <td>2</td>\n",
              "      <td>3</td>\n",
              "    </tr>\n",
              "  </tbody>\n",
              "</table>\n",
              "</div>"
            ],
            "text/plain": [
              "                          Имя  ...                  Содержание\n",
              "0  Рагулин Алексей Дмитриевич  ...                 Банк России\n",
              "1  Рагулин Алексей Дмитриевич  ...  a.ragulin@actuaries.org.ru\n",
              "2  Рагулин Алексей Дмитриевич  ...                 с 2017 года\n",
              "3  Рагулин Алексей Дмитриевич  ...                        0140\n",
              "4  Рагулин Алексей Дмитриевич  ...                         нет\n",
              "5  Рагулин Алексей Дмитриевич  ...          +7 (916) 720-00-36\n",
              "0                           1  ...                           3\n",
              "\n",
              "[7 rows x 3 columns]"
            ]
          },
          "metadata": {}
        }
      ]
    },
    {
      "cell_type": "code",
      "metadata": {
        "colab": {
          "base_uri": "https://localhost:8080/"
        },
        "id": "aR4I_yj_Z2ME",
        "outputId": "7c0f9573-2cda-4feb-e147-b5665a7b35bc"
      },
      "source": [
        "column3\n"
      ],
      "execution_count": 60,
      "outputs": [
        {
          "output_type": "execute_result",
          "data": {
            "text/plain": [
              "['Банк России',\n",
              " 'a.ragulin@actuaries.org.ru',\n",
              " 'с 2017 года',\n",
              " '0140',\n",
              " 'нет',\n",
              " '+7 (916) 720-00-36']"
            ]
          },
          "metadata": {},
          "execution_count": 60
        }
      ]
    }
  ]
}