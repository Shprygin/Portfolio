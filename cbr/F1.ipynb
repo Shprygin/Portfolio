{
 "cells": [
  {
   "cell_type": "markdown",
   "id": "86ed6414",
   "metadata": {},
   "source": [
    "## Мёрджинг таблиц "
   ]
  },
  {
   "cell_type": "code",
   "execution_count": null,
   "id": "39fa766c",
   "metadata": {},
   "outputs": [],
   "source": [
    "import pandas as pd"
   ]
  },
  {
   "cell_type": "code",
   "execution_count": null,
   "id": "76b1f8dd",
   "metadata": {},
   "outputs": [],
   "source": [
    "import os"
   ]
  },
  {
   "cell_type": "code",
   "execution_count": null,
   "id": "505363b6",
   "metadata": {},
   "outputs": [],
   "source": [
    "# года папок\n",
    "years = list(range(2016,2021+1))\n",
    "years"
   ]
  },
  {
   "cell_type": "code",
   "execution_count": null,
   "id": "b52a6cfd",
   "metadata": {},
   "outputs": [],
   "source": [
    "#получим первым щагом список всех папок, которые содеружтся во всех годовых папках\n",
    "\n",
    "folderpath = r'C:\\###'\n",
    "filepaths16 =  [os.path.join(folderpath, name) for name in os.listdir(folderpath)] #этой командой создаем список всех адресов 'filepaths16', содержихся по адресу folderpath \n",
    "\n",
    "folderpath = r'C:\\###'\n",
    "for i in [os.path.join(folderpath, name) for name in os.listdir(folderpath)]: #этим лупом добавляем каждый адрес, содержащийся в папке 17ого года в список, который создале ранее. И так далее для каждого года\n",
    "    filepaths16.append(i)\n",
    "\n",
    "folderpath = r'C:\\###'\n",
    "for i in [os.path.join(folderpath, name) for name in os.listdir(folderpath)]:\n",
    "    filepaths16.append(i)\n",
    "\n",
    "folderpath = r'C:\\###'\n",
    "for i in [os.path.join(folderpath, name) for name in os.listdir(folderpath)]:\n",
    "    filepaths16.append(i)\n",
    "\n",
    "folderpath = r'C:\\###'    \n",
    "for i in [os.path.join(folderpath, name) for name in os.listdir(folderpath)]:\n",
    "    filepaths16.append(i)\n",
    "\n",
    "folderpath = r'C:\\###'\n",
    "for i in [os.path.join(folderpath, name) for name in os.listdir(folderpath)]:\n",
    "    filepaths16.append(i)\n",
    "\n",
    "print(filepaths16)"
   ]
  },
  {
   "cell_type": "code",
   "execution_count": null,
   "id": "fd404e38",
   "metadata": {},
   "outputs": [],
   "source": [
    "#красиво любуемся на список всех папок\n",
    "for i in filepaths16:\n",
    "    print(i)"
   ]
  },
  {
   "cell_type": "code",
   "execution_count": null,
   "id": "e23c5ca9",
   "metadata": {},
   "outputs": [],
   "source": [
    "#теперь идем дальше, делаем список адрпесов всех файлов, содержащихся во всех папках из предыдущего пункта\n",
    "\n",
    "files_vy = []\n",
    "files_pol = []\n",
    "\n",
    "for i in filepaths16:\n",
    "    files_vy.append([os.path.join(i, name) for name in os.listdir(i)][0]) #тк в каждой папке есть два файла, а мне по заданию нужен только первый файл, выставляю индекс [0]\n",
    "    files_pol.append([os.path.join(i, name) for name in os.listdir(i)][1]) #тк в каждой папке есть два файла, а мне по заданию нужен только первый файл, выставляю индекс [0]\n",
    "\n",
    "    \n",
    "#и любуемся на него\n",
    "for i in files_vy:\n",
    "    print(i)"
   ]
  },
  {
   "cell_type": "code",
   "execution_count": null,
   "id": "b9cf9c00",
   "metadata": {},
   "outputs": [],
   "source": [
    "for i in files_pol:\n",
    "    print(i)"
   ]
  },
  {
   "cell_type": "code",
   "execution_count": null,
   "id": "6ad2a576",
   "metadata": {},
   "outputs": [],
   "source": [
    "#Налюбовавшись, заметили две проблемы:\n",
    "# 1) в некоторых адресах присутствует значок ~$\n",
    "# 2) есть несколько адресов с файлами Thumbs.db,\n",
    "# 3) пару раз влез файл не выстав а получ \n",
    "#Причину проблемы я не знаю, скорее всего что-то с энкодингом. Итак, реешаем проблемы поступательно\n",
    "\n",
    "#Начинаю со второй, она проще. Обращаю внимание,что это файлов db два. Найти их просто: это есдинственные адреса, у которых последний символ не х\n",
    "#Находим их порядковые номера в списке путей\n",
    "index = 0\n",
    "for i in files_vy:\n",
    "    if i[len(i)-1]!= 'x': #если последний символ не x\n",
    "        print(index)\n",
    "        print(i)\n",
    "    index+=1"
   ]
  },
  {
   "cell_type": "code",
   "execution_count": null,
   "id": "612d38b9",
   "metadata": {},
   "outputs": [],
   "source": [
    "#теперь замению названия на нормальные\n",
    "files_vy[112] = r'C:\\###'\n",
    "files_vy[113] = r'###'\n",
    "# \\ - магический символ в языках программирования, поэтому чтобы он нормально читался нужно либо ставить r перед строкой либо удваивать \\ (то есть ставить \\\\)"
   ]
  },
  {
   "cell_type": "code",
   "execution_count": null,
   "id": "73522216",
   "metadata": {},
   "outputs": [],
   "source": [
    "#третья проблема - полученные а не выставленные. Таких файлов всего два:\n",
    "# C:\\Users\\TsipesLG\\Desktop\\Задания\\Пункт 5.12\\2017\\2017.04.03-04.09 (04.04.17)\\~$Реестр получ.оплач.требов. 3-9.04.17 (04.04.17).xlsx\n",
    "# C:\\Users\\TsipesLG\\Desktop\\Задания\\Пункт 5.12\\2020\\2020.03.16-03.22 (17.03.20)\\~$РЕЕСТР ПОЛУЧЕННЫХ ОПЛАЧЕННЫХ ТРЕБОВАНИЙ.xlsx\n",
    "incorrect_files = [r'C:###', \n",
    "                   r'C:###']\n",
    "correct_files = [r'###',\n",
    "                 r'###']\n",
    "\n",
    "for j in range(len(incorrect_files)):\n",
    "    index = files_vy.index(incorrect_files[j]) #определяем порядковый номер неправильного файла\n",
    "    print(index)\n",
    "    files_vy[index]=correct_files[j]\n",
    "    print(files_vy[index])"
   ]
  },
  {
   "cell_type": "code",
   "execution_count": null,
   "id": "033a4bee",
   "metadata": {},
   "outputs": [],
   "source": [
    "#аналогичная проблема с опрлаченными файлами, в список по ним попали полученные\n",
    "\n",
    "clean_files_pol = []\n",
    "\n",
    "for file in files_pol:\n",
    "    file = file.replace(\"выстав\", \"получ\")\n",
    "    file = file.replace(\"ВЫСТАВЛЕННЫХ\", \"ПОЛУЧЕННЫХ\")\n",
    "    clean_files_pol.append(file)\n",
    "clean_files_pol"
   ]
  },
  {
   "cell_type": "code",
   "execution_count": null,
   "id": "e5f1e26a",
   "metadata": {},
   "outputs": [],
   "source": [
    "print('итого объектов в списке files_vy:', len(files_vy))\n",
    "print('итого объектов в списке clean_files_opl:', len(clean_files_pol))"
   ]
  },
  {
   "cell_type": "code",
   "execution_count": null,
   "id": "b80edda5",
   "metadata": {
    "scrolled": true
   },
   "outputs": [],
   "source": [
    "#Далее к первой проблеме\n",
    "clean_files_vy = []\n",
    "for file in files_vy: #для каждого адреса в списке\n",
    "    for char in file: #для каждого знака в адресе\n",
    "        if char in '~$': #если знак является ~ или $\n",
    "            print(file) #выводим этот адрес, чтобы убедиться\n",
    "            file = file.replace(char,'')   #заменяем этот элемент на ничто, то есть удаляем\n",
    "    #к этому моменту файл уже точно не имеет ~$ и мы можем сохранить его в новый \"белый\" список\n",
    "    clean_files_vy.append(file)"
   ]
  },
  {
   "cell_type": "code",
   "execution_count": null,
   "id": "47acd84f",
   "metadata": {},
   "outputs": [],
   "source": [
    "#Теперь опять любуемся на наш уже починенный список\n",
    "print(len(clean_files_vy))\n",
    "for i in clean_files_vy:\n",
    "    print(i)\n",
    "#Кажется, все чисто, можно начинать работать"
   ]
  },
  {
   "cell_type": "code",
   "execution_count": null,
   "id": "8bcad33f",
   "metadata": {},
   "outputs": [],
   "source": [
    "#"
   ]
  },
  {
   "cell_type": "code",
   "execution_count": null,
   "id": "48cdf964",
   "metadata": {},
   "outputs": [],
   "source": [
    "#начнем с самого первого файла clean_files[0], на основе него мы создадим макет итоговой таблицы\n",
    "df = pd.read_excel(clean_files_vy[0], header = 6)\n",
    "df"
   ]
  },
  {
   "cell_type": "code",
   "execution_count": null,
   "id": "59e5d451",
   "metadata": {},
   "outputs": [],
   "source": [
    "#добавляем столбик, куда будем записывать адрес файла\n",
    "df.insert(16, \"__\",0)\n",
    "df.insert(17, \"Адрес файла\",0)\n",
    "df[\"Адрес файла\"] = clean_files_vy[0] #заполняем всю колонку значениями адреса\n",
    "df"
   ]
  },
  {
   "cell_type": "code",
   "execution_count": null,
   "id": "133549f6",
   "metadata": {
    "scrolled": true
   },
   "outputs": [],
   "source": [
    "#а теперь к этому будем добавлять все таблицы, ту часть которая с восьмой строки\n",
    "#функции, которые я буду использовать:\n",
    "# df.iloc[6:,:] - вывести таблицу df начиная с 7 строки (помним, что в питоне исчисление идет с 0)\n",
    "# df.drop(0) - удалить нулевую строку\n",
    "\n",
    "\n",
    "for i in range(1, len(clean_files)-1):\n",
    "    table = pd.read_excel(clean_files[i], header=None).iloc[8:,:]\n",
    "    df.append(table)"
   ]
  },
  {
   "cell_type": "code",
   "execution_count": null,
   "id": "c49c6ed8",
   "metadata": {},
   "outputs": [],
   "source": [
    "#тут мы столкнулись с проблемой, что те db файлы, которые мы меняли на эксель, анаконда не находит.\n",
    "#Не знаю в чем проблема, но этих таблиц всего две, мы их вставим рукми потом, а сейчас удалим их из списка адресов\n",
    "#как определили раньше, индексы у этих адресов следующие: 112 и 113\n",
    "#будем их удалять. Удалять с конца, тк при удалении i-того элемента, порядковые номера объектов после него изменятся.\n",
    "print(len(clean_files_vy))\n",
    "clean_files_vy.pop(113)\n",
    "clean_files_vy.pop(112)\n",
    "print(len(clean_files_vy))"
   ]
  },
  {
   "cell_type": "code",
   "execution_count": null,
   "id": "b72de9a1",
   "metadata": {},
   "outputs": [],
   "source": [
    "#теперь запускаем процесс еще раз, обавляя адрес файла\n",
    "for i in range(1, len(clean_files_vy)-1):\n",
    "    \n",
    "    table = pd.read_excel(clean_files[i], header=None).iloc[8:,:]\n",
    "    table.insert(16, \"Адрес файла\",0)\n",
    "    table[\"Адрес файла\"] = clean_files[i]\n",
    "    df = df.append(table, ignore_index=True)\n",
    "    "
   ]
  },
  {
   "cell_type": "code",
   "execution_count": null,
   "id": "cc4c637b",
   "metadata": {},
   "outputs": [],
   "source": [
    "#любуемся\n",
    "df"
   ]
  },
  {
   "cell_type": "code",
   "execution_count": null,
   "id": "6dc16a66",
   "metadata": {},
   "outputs": [],
   "source": [
    "#видим ерунду в конце. Посмотрев фалйы, я обнаружил, что у части файлов 2019 года, а также всех файлов 2020 и 2021 года другая структура.\n",
    "#Значит, будеем делать два разных файла для каждой структуры\n",
    "\n",
    "#просмотрев список, определил, что первый файл с новой структурой называется C:\\Users\\TsipesLG\\Desktop\\Задания\\Пункт 5.12\\2019\\2019.08.26-09.01 (03.09.19)\\Реестр выстав.оплач.требован. 26.08.-01.09.19 (03.09.19).xlsx\n",
    "#в первой таблице будут все файлы до него, а во второй все с него \n",
    "\n",
    "index = clean_files.index(r'C:###')\n",
    "print(index) #индекс позиции певрого 2020го файла\n",
    "\n",
    "clean_files_1 = []\n",
    "clean_files_2 = []\n",
    "\n",
    "for i in range(len(clean_files)):\n",
    "    if i < index:\n",
    "        clean_files_1.append(clean_files[i])\n",
    "    else:\n",
    "        clean_files_2.append(clean_files[i])\n",
    "\n",
    "clean_files_1[len(clean_files_1)-1] "
   ]
  },
  {
   "cell_type": "code",
   "execution_count": null,
   "id": "34dbe502",
   "metadata": {},
   "outputs": [],
   "source": [
    "#Итак, код который уже был написан используем только на файлах из списка clean_files_1\n",
    "\n",
    "df_1 = pd.read_excel(clean_files_1[0], header = 6)\n",
    "\n",
    "df_1.insert(16, \"Адрес файла\",0)\n",
    "df_1[\"Адрес файла\"] = clean_files_1[0] #заполняем всю колонку значениями адреса\n",
    "\n",
    "#теперь запускаем процесс еще раз, обавляя адрес файла\n",
    "for i in range(1, len(clean_files_1)-1):\n",
    "    \n",
    "    table = pd.read_excel(clean_files_1[i], header = 6)\n",
    "    table.insert(16, \"Адрес файла\",0)\n",
    "    table.drop(7)\n",
    "    table[\"Адрес файла\"] = clean_files_1[i]\n",
    "    df_1 = df_1.append(table, ignore_index=True)\n",
    "\n",
    "df_1"
   ]
  },
  {
   "cell_type": "code",
   "execution_count": null,
   "id": "6168b588",
   "metadata": {},
   "outputs": [],
   "source": [
    "#выгружаем полученную таблицу в эксель\n",
    "df_1.to_excel(r\"C:###\")\n",
    "#Не забываем вручную добавить пропущенные таблицы из папок\n"
   ]
  },
  {
   "cell_type": "code",
   "execution_count": null,
   "id": "7a29b5f9",
   "metadata": {},
   "outputs": [],
   "source": [
    "#теперь делаем аналогичной код для второй структуры\n",
    "#В чем разница структур для нас:\n",
    "# 1) во второй структуре 19 колонок, а не 16, то есть индекс колонки адреса будет равен 19\n",
    "# 2) под таблицей есть две строки с ИТОГО, их надо удалить\n",
    "# 3) шапка на 9 строчке (индекс 8)\n",
    "\n",
    "#Итак, код который уже был написан используем только на файлах из списка clean_files_2\n",
    "\n",
    "df_2 = pd.read_excel(clean_files_2[0], header = 8)\n",
    "\n",
    "df_2.insert(19, \"Адрес файла\",0)\n",
    "df_2[\"Адрес файла\"] = clean_files_2[0] #заполняем всю колонку значениями адреса\n",
    "\n",
    "df_2 = df_2.drop(len(df_2.index)-1) #чтобы убрать последние две строчки, просто стираю посленюю строчку два раза\n",
    "df_2 = df_2.drop(len(df_2.index)-1)\n",
    "\n",
    "\n",
    "#теперь запускаем процесс еще раз, обавляя адрес файла\n",
    "for i in range(1, len(clean_files_2)-1):\n",
    "    \n",
    "    table = pd.read_excel(clean_files_2[i], header=8)\n",
    "    table.insert(19, \"Адрес файла\",0)\n",
    "    table[\"Адрес файла\"] = clean_files_2[i]\n",
    "    df_2 = df_2.append(table, ignore_index=True)\n",
    "    df_2 = df_2.drop(len(df_2.index)-1)\n",
    "    df_2 = df_2.drop(len(df_2.index)-1)\n",
    "    \n",
    "df_2"
   ]
  },
  {
   "cell_type": "code",
   "execution_count": null,
   "id": "d217ed0c",
   "metadata": {},
   "outputs": [],
   "source": [
    "#выгружаем полученную таблицу в эксель\n",
    "df_2.to_excel(r\"C:###\")"
   ]
  },
  {
   "cell_type": "code",
   "execution_count": null,
   "id": "676a3c87",
   "metadata": {},
   "outputs": [],
   "source": [
    "#аналогично надо проделать такое же упражнение для полученных убытков\n",
    "#начнем с самого первого файла clean_files[0], на основе него мы создадим макет итоговой таблицы\n",
    "\n",
    "index = clean_files_pol.index(r'C###')\n",
    "print(index) #индекс позиции певрого 2020го файла\n",
    "\n",
    "\n",
    "clean_files_1 = clean_files_pol[:index]\n",
    "clean_files_2 = clean_files_pol[index:]\n",
    "\n",
    "clean_files_2[0]"
   ]
  },
  {
   "cell_type": "code",
   "execution_count": null,
   "id": "46858dbb",
   "metadata": {},
   "outputs": [],
   "source": [
    "#Итак, код который уже был написан используем только на файлах из списка clean_files_1\n",
    "\n",
    "df_1 = pd.read_excel(clean_files_1[0], header = 6)\n",
    "\n",
    "df_1.insert(16, \"Адрес файла\",0)\n",
    "df_1[\"Адрес файла\"] = clean_files_1[0] #заполняем всю колонку значениями адреса\n",
    "\n",
    "#теперь запускаем процесс еще раз, обавляя адрес файла\n",
    "for i in range(1, len(clean_files_1)-1):\n",
    "    \n",
    "    table = pd.read_excel(clean_files_1[i], header = 6)\n",
    "    table.insert(16, \"Адрес файла\",0)\n",
    "    table.drop(7)\n",
    "    table[\"Адрес файла\"] = clean_files_1[i]\n",
    "    df_1 = df_1.append(table, ignore_index=True)\n",
    "\n",
    "df_1"
   ]
  },
  {
   "cell_type": "code",
   "execution_count": null,
   "id": "917f75b6",
   "metadata": {},
   "outputs": [],
   "source": [
    "#теперь делаем аналогичной код для второй структуры\n",
    "#В чем разница структур для нас:\n",
    "# 1) во второй структуре 19 колонок, а не 16, то есть индекс колонки адреса будет равен 19\n",
    "# 2) под таблицей есть две строки с ИТОГО, их надо удалить\n",
    "# 3) шапка на 9 строчке (индекс 8)\n",
    "\n",
    "#Итак, код который уже был написан используем только на файлах из списка clean_files_2\n",
    "\n",
    "df_2 = pd.read_excel(clean_files_2[0], header = 8)\n",
    "\n",
    "df_2.insert(19, \"Адрес файла\",0)\n",
    "df_2[\"Адрес файла\"] = clean_files_2[0] #заполняем всю колонку значениями адреса\n",
    "\n",
    "df_2 = df_2.drop(len(df_2.index)-1) #чтобы убрать последние две строчки, просто стираю посленюю строчку два раза\n",
    "df_2 = df_2.drop(len(df_2.index)-1)\n",
    "\n",
    "\n",
    "#теперь запускаем процесс еще раз, обавляя адрес файла\n",
    "for i in range(1, len(clean_files_2)-1):\n",
    "    \n",
    "    table = pd.read_excel(clean_files_2[i], header=8)\n",
    "    table.insert(19, \"Адрес файла\",0)\n",
    "    table[\"Адрес файла\"] = clean_files_2[i]\n",
    "    df_2 = df_2.append(table, ignore_index=True)\n",
    "    df_2 = df_2.drop(len(df_2.index)-1)\n",
    "    df_2 = df_2.drop(len(df_2.index)-1)\n",
    "    \n",
    "df_2"
   ]
  },
  {
   "cell_type": "code",
   "execution_count": null,
   "id": "b9c14678",
   "metadata": {},
   "outputs": [],
   "source": [
    "#выгружаем полученную таблицу в эксель\n",
    "df_1.to_excel(r\"C:###\")\n",
    "df_2.to_excel(r\"C:###\")"
   ]
  }
 ],
 "metadata": {
  "kernelspec": {
   "display_name": "Python 3",
   "language": "python",
   "name": "python3"
  },
  "language_info": {
   "codemirror_mode": {
    "name": "ipython",
    "version": 3
   },
   "file_extension": ".py",
   "mimetype": "text/x-python",
   "name": "python",
   "nbconvert_exporter": "python",
   "pygments_lexer": "ipython3",
   "version": "3.8.8"
  }
 },
 "nbformat": 4,
 "nbformat_minor": 5
}
